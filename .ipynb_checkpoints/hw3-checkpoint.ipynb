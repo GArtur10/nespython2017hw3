{
 "cells": [
  {
   "cell_type": "code",
   "execution_count": 164,
   "metadata": {
    "collapsed": true
   },
   "outputs": [],
   "source": [
    "#made by Mengden Alexey\n",
    "import numpy as np\n",
    "import pandas as pd\n",
    "import scipy.stats\n",
    "import sys\n",
    "np.set_printoptions(precision=3)\n",
    "import matplotlib.pyplot as plt\n",
    "import scipy as scp"
   ]
  },
  {
   "cell_type": "markdown",
   "metadata": {},
   "source": [
    "## Problem 1"
   ]
  },
  {
   "cell_type": "markdown",
   "metadata": {},
   "source": [
    "OLS class where OLS.beta - coefficients, OLS.V - covariance matrix "
   ]
  },
  {
   "cell_type": "code",
   "execution_count": 165,
   "metadata": {
    "collapsed": true
   },
   "outputs": [],
   "source": [
    "X = np.random.randn(100, 3)\n",
    "y = X.dot(np.array([1,2,3])) + np.random.randn(100)"
   ]
  },
  {
   "cell_type": "code",
   "execution_count": 166,
   "metadata": {
    "collapsed": true
   },
   "outputs": [],
   "source": [
    "class OLS:\n",
    "    \"\"\"OLS class\"\"\"\n",
    " \n",
    "    def __init__(self, y, X):\n",
    "        \"\"\"Constructor\"\"\"\n",
    "        self.y = y\n",
    "        self.X = X\n",
    "\n",
    "    @property\n",
    "    def beta(self):\n",
    "        \"\"\"\n",
    "        Coefficient of OLS\n",
    "        \"\"\"\n",
    "        return np.dot(np.linalg.inv(np.dot((self.X).T,self.X)), np.dot((self.X).T, self.y))\n",
    " \n",
    "    @property\n",
    "    def V(self):\n",
    "        yxB = self.y - np.dot(self.X, self.beta)\n",
    "        sigma = (1 / (np.shape(self.X)[0] - np.shape(self.X)[1]))*np.dot(yxB.T, yxB)\n",
    "        return  sigma**2*np.linalg.inv(np.dot((self.X).T, self.X))\n",
    "    \n",
    "    def predict(self, x):\n",
    "        \"\"\"\n",
    "        Prediction \n",
    "        \"\"\"\n",
    "        yxB = self.y - np.dot(self.X, self.beta)\n",
    "        sigma = (1 / (np.shape(self.X)[0] - np.shape(self.X)[1]))*np.dot(yxB.T, yxB)\n",
    "        xx = np.linalg.inv(np.dot(X.T, X))\n",
    "        vv = sigma**2*(1 + np.dot(np.dot(x.T, xx), x))\n",
    "        ypredict = np.dot(x.T, self.beta)\n",
    "        return (sigma**2*(1 + np.dot(np.dot(x.T,xx), x)), np.dot(x.T, self.beta))"
   ]
  },
  {
   "cell_type": "code",
   "execution_count": 167,
   "metadata": {
    "collapsed": true
   },
   "outputs": [],
   "source": [
    "z = OLS(y,X)"
   ]
  },
  {
   "cell_type": "markdown",
   "metadata": {},
   "source": [
    "OLS coefficients:"
   ]
  },
  {
   "cell_type": "code",
   "execution_count": 168,
   "metadata": {},
   "outputs": [
    {
     "data": {
      "text/plain": [
       "array([ 1.075,  2.038,  2.752])"
      ]
     },
     "execution_count": 168,
     "metadata": {},
     "output_type": "execute_result"
    }
   ],
   "source": [
    "z.beta"
   ]
  },
  {
   "cell_type": "markdown",
   "metadata": {},
   "source": [
    "Covariance matrix:"
   ]
  },
  {
   "cell_type": "code",
   "execution_count": 169,
   "metadata": {},
   "outputs": [
    {
     "data": {
      "text/plain": [
       "array([[ 0.013, -0.001,  0.001],\n",
       "       [-0.001,  0.015,  0.001],\n",
       "       [ 0.001,  0.001,  0.018]])"
      ]
     },
     "execution_count": 169,
     "metadata": {},
     "output_type": "execute_result"
    }
   ],
   "source": [
    "z.V"
   ]
  },
  {
   "cell_type": "code",
   "execution_count": 170,
   "metadata": {},
   "outputs": [
    {
     "data": {
      "text/plain": [
       "(1.5393961332486246, 3.8265189506776887)"
      ]
     },
     "execution_count": 170,
     "metadata": {},
     "output_type": "execute_result"
    }
   ],
   "source": [
    "z.predict(np.array([1,0,1]))"
   ]
  },
  {
   "cell_type": "markdown",
   "metadata": {},
   "source": [
    "Internal function:"
   ]
  },
  {
   "cell_type": "code",
   "execution_count": 171,
   "metadata": {},
   "outputs": [
    {
     "data": {
      "text/plain": [
       "array([ 1.075,  2.038,  2.752])"
      ]
     },
     "execution_count": 171,
     "metadata": {},
     "output_type": "execute_result"
    }
   ],
   "source": [
    "z,resid,rank,sigma = np.linalg.lstsq(X,y)\n",
    "z"
   ]
  },
  {
   "cell_type": "markdown",
   "metadata": {},
   "source": [
    "## Problem 2"
   ]
  },
  {
   "cell_type": "markdown",
   "metadata": {},
   "source": [
    "Make series $y_{i}=\\underset{k=10}{\\overset{10}{\\Sigma}} \\beta_{k} \\frac{x_{i}^k}{k!}+u_{i}$"
   ]
  },
  {
   "cell_type": "markdown",
   "metadata": {},
   "source": [
    "$\\beta$ - uniformly in $(0,1)$:"
   ]
  },
  {
   "cell_type": "code",
   "execution_count": 172,
   "metadata": {
    "collapsed": true
   },
   "outputs": [],
   "source": [
    "beta = np.random.uniform(0, 1, 11)"
   ]
  },
  {
   "cell_type": "markdown",
   "metadata": {},
   "source": [
    "$x$ - uniformly in $(-5,5)$:"
   ]
  },
  {
   "cell_type": "code",
   "execution_count": 173,
   "metadata": {
    "collapsed": true
   },
   "outputs": [],
   "source": [
    "x = np.random.uniform(-5, 5, 100)"
   ]
  },
  {
   "cell_type": "markdown",
   "metadata": {},
   "source": [
    "$u$ ~ $N(0,100)$"
   ]
  },
  {
   "cell_type": "code",
   "execution_count": 174,
   "metadata": {
    "collapsed": true
   },
   "outputs": [],
   "source": [
    "u = 10 * np.random.randn(100) + 0"
   ]
  },
  {
   "cell_type": "code",
   "execution_count": 175,
   "metadata": {
    "collapsed": true
   },
   "outputs": [],
   "source": [
    "kfact = np.linspace(0, 10, 11)\n",
    "for i in range(len(kfact)):\n",
    "    kfact[i] = np.math.factorial(kfact[i])"
   ]
  },
  {
   "cell_type": "code",
   "execution_count": 289,
   "metadata": {
    "collapsed": true
   },
   "outputs": [],
   "source": [
    "y = np.poly1d(np.flipud(beta / kfact))(x)\n",
    "y += u"
   ]
  },
  {
   "cell_type": "code",
   "execution_count": 290,
   "metadata": {},
   "outputs": [
    {
     "data": {
      "image/png": "[encoded data removed]",
      "text/plain": [
       "<matplotlib.figure.Figure at 0x11d00f1d0>"
      ]
     },
     "metadata": {},
     "output_type": "display_data"
    }
   ],
   "source": [
    "import matplotlib.pyplot as plt\n",
    "import numpy as np\n",
    "\n",
    "fig, ax = plt.subplots()\n",
    "ax.scatter(x, y)\n",
    "ax.set_xlabel(r'$y_i$', fontsize=15)\n",
    "ax.set_ylabel(r'$x_i$', fontsize=15)\n",
    "ax.set_title('Scatter plot of Problem 2')\n",
    "fig.tight_layout()\n",
    "plt.show()"
   ]
  },
  {
   "cell_type": "code",
   "execution_count": 227,
   "metadata": {},
   "outputs": [],
   "source": [
    "xsort = np.sort(x)\n",
    "ones = [1]*100\n",
    "xk1 = np.array(list(zip(xsort)))\n",
    "xk2 = np.array(list(zip(xsort, xsort**2)))\n",
    "xk3 = np.array(list(zip(xsort, xsort**2,xsort**3)))\n",
    "xk4 = np.array(list(zip(xsort, xsort**2, xsort**3, xsort**4)))"
   ]
  },
  {
   "cell_type": "code",
   "execution_count": 291,
   "metadata": {},
   "outputs": [],
   "source": [
    "def z(y, x):\n",
    "    zi = OLS(y,x).beta\n",
    "    return np.poly1d(zi)(xsort) + 1"
   ]
  },
  {
   "cell_type": "code",
   "execution_count": 293,
   "metadata": {},
   "outputs": [],
   "source": [
    "y1, y2, y3, y4 = z(y, xk1), z(y,xk2), z(y, xk3), z(y, xk4)"
   ]
  },
  {
   "cell_type": "code",
   "execution_count": 295,
   "metadata": {},
   "outputs": [
    {
     "data": {
      "image/png": "[encoded data removed]",
      "text/plain": [
       "<matplotlib.figure.Figure at 0x11d21b828>"
      ]
     },
     "metadata": {},
     "output_type": "display_data"
    }
   ],
   "source": [
    "fig, ax = plt.subplots()\n",
    "ax.scatter(x, y)\n",
    "ax.plot(xsort, y1, 'red', label='K = 1')\n",
    "ax.plot(xsort, y2, 'blue', label='K = 2')\n",
    "ax.plot(xsort, y3, 'black', label='K = 3')\n",
    "ax.plot(xsort, y4, 'yellow', label='K = 4')\n",
    "ax.legend(loc = 'upper center', bbox_to_anchor = (0.5, 1.05), ncol = 2)\n",
    "plt.ylim(min(y) - 10, max(y) + 10)\n",
    "plt.show()"
   ]
  },
  {
   "cell_type": "markdown",
   "metadata": {},
   "source": [
    "## Problem 3\n"
   ]
  },
  {
   "cell_type": "markdown",
   "metadata": {},
   "source": [
    "Make random matrix ~ $N(0,1)$"
   ]
  },
  {
   "cell_type": "code",
   "execution_count": 68,
   "metadata": {
    "collapsed": true
   },
   "outputs": [],
   "source": [
    "random_matrix = np.random.randn(100, 100)\n",
    "a ={}\n",
    "b=[]\n",
    "\n",
    "def mci(data, confidence=0.90):\n",
    "    a = 1.0*np.array(data)\n",
    "    n = len(a)\n",
    "    m, se = np.mean(a), scp.stats.sem(a)\n",
    "    h = se * scp.stats.t._ppf((1+confidence)/2., n-1)\n",
    "    return  m-h, m+h\n",
    "def isgoodrandom(random_matrix):\n",
    "    counting = 0\n",
    "    for i in range(len(random_matrix)):\n",
    "        a[i] = mci(random_matrix[i])\n",
    "        b.append(True) if ((a[i][0]<0) and (a[i][1]>0)) else b.append(False)\n",
    "        if b[i]:\n",
    "            counting += 1\n",
    "    return b, counting"
   ]
  },
  {
   "cell_type": "markdown",
   "metadata": {},
   "source": [
    "% of columns mean do not reject $H_{0}: \\mu = 0$"
   ]
  },
  {
   "cell_type": "code",
   "execution_count": 69,
   "metadata": {},
   "outputs": [
    {
     "data": {
      "text/plain": [
       "88"
      ]
     },
     "execution_count": 69,
     "metadata": {},
     "output_type": "execute_result"
    }
   ],
   "source": [
    "isgoodrandom(random_matrix)[1]"
   ]
  },
  {
   "cell_type": "markdown",
   "metadata": {},
   "source": [
    "Also for rows:"
   ]
  },
  {
   "cell_type": "code",
   "execution_count": 70,
   "metadata": {},
   "outputs": [
    {
     "data": {
      "text/plain": [
       "88"
      ]
     },
     "execution_count": 70,
     "metadata": {},
     "output_type": "execute_result"
    }
   ],
   "source": [
    "isgoodrandom(random_matrix.T)[1]"
   ]
  },
  {
   "cell_type": "markdown",
   "metadata": {},
   "source": [
    "That means that random generator is good in randomity. We have equal normal distribution for rows and columns"
   ]
  },
  {
   "cell_type": "markdown",
   "metadata": {},
   "source": [
    "## Problem 4\n"
   ]
  },
  {
   "cell_type": "code",
   "execution_count": 71,
   "metadata": {
    "collapsed": true
   },
   "outputs": [],
   "source": [
    "import pandas as pd"
   ]
  },
  {
   "cell_type": "markdown",
   "metadata": {},
   "source": [
    "NHL data for player"
   ]
  },
  {
   "cell_type": "code",
   "execution_count": 72,
   "metadata": {},
   "outputs": [
    {
     "data": {
      "text/html": [
       "<div>\n",
       "<style>\n",
       "    .dataframe thead tr:only-child th {\n",
       "        text-align: right;\n",
       "    }\n",
       "\n",
       "    .dataframe thead th {\n",
       "        text-align: left;\n",
       "    }\n",
       "\n",
       "    .dataframe tbody tr th {\n",
       "        vertical-align: top;\n",
       "    }\n",
       "</style>\n",
       "<table border=\"1\" class=\"dataframe\">\n",
       "  <thead>\n",
       "    <tr style=\"text-align: right;\">\n",
       "      <th></th>\n",
       "      <th>n</th>\n",
       "      <th>player</th>\n",
       "      <th>season</th>\n",
       "      <th>team</th>\n",
       "      <th>position</th>\n",
       "      <th>games_played</th>\n",
       "    </tr>\n",
       "  </thead>\n",
       "  <tbody>\n",
       "    <tr>\n",
       "      <th>0</th>\n",
       "      <td>1</td>\n",
       "      <td>Cam Talbot</td>\n",
       "      <td>2016-17</td>\n",
       "      <td>EDM</td>\n",
       "      <td>G</td>\n",
       "      <td>73</td>\n",
       "    </tr>\n",
       "    <tr>\n",
       "      <th>1</th>\n",
       "      <td>2</td>\n",
       "      <td>Braden Holtby</td>\n",
       "      <td>2016-17</td>\n",
       "      <td>WSH</td>\n",
       "      <td>G</td>\n",
       "      <td>63</td>\n",
       "    </tr>\n",
       "    <tr>\n",
       "      <th>2</th>\n",
       "      <td>3</td>\n",
       "      <td>Sergei Bobrovsky</td>\n",
       "      <td>2016-17</td>\n",
       "      <td>CBJ</td>\n",
       "      <td>G</td>\n",
       "      <td>63</td>\n",
       "    </tr>\n",
       "    <tr>\n",
       "      <th>3</th>\n",
       "      <td>4</td>\n",
       "      <td>Devan Dubnyk</td>\n",
       "      <td>2016-17</td>\n",
       "      <td>MIN</td>\n",
       "      <td>G</td>\n",
       "      <td>65</td>\n",
       "    </tr>\n",
       "    <tr>\n",
       "      <th>4</th>\n",
       "      <td>5</td>\n",
       "      <td>Tuukka Rask</td>\n",
       "      <td>2016-17</td>\n",
       "      <td>BOS</td>\n",
       "      <td>G</td>\n",
       "      <td>65</td>\n",
       "    </tr>\n",
       "  </tbody>\n",
       "</table>\n",
       "</div>"
      ],
      "text/plain": [
       "   n            player   season team position  games_played\n",
       "0  1        Cam Talbot  2016-17  EDM        G            73\n",
       "1  2     Braden Holtby  2016-17  WSH        G            63\n",
       "2  3  Sergei Bobrovsky  2016-17  CBJ        G            63\n",
       "3  4      Devan Dubnyk  2016-17  MIN        G            65\n",
       "4  5       Tuukka Rask  2016-17  BOS        G            65"
      ]
     },
     "execution_count": 72,
     "metadata": {},
     "output_type": "execute_result"
    }
   ],
   "source": [
    "df = pd.read_csv('goalies-2014-2016.csv', header = 0, sep = ';')\n",
    "df.iloc[0:5,0:6]"
   ]
  },
  {
   "cell_type": "code",
   "execution_count": 73,
   "metadata": {
    "collapsed": true
   },
   "outputs": [],
   "source": [
    "df['save_percentage_m'] = round(df['saves'] / df['shots_against'], 3)"
   ]
  },
  {
   "cell_type": "markdown",
   "metadata": {},
   "source": [
    "difference of calculated and given value for save_percentage:"
   ]
  },
  {
   "cell_type": "code",
   "execution_count": 74,
   "metadata": {},
   "outputs": [
    {
     "data": {
      "text/plain": [
       "0.0010000000000001119"
      ]
     },
     "execution_count": 74,
     "metadata": {},
     "output_type": "execute_result"
    }
   ],
   "source": [
    "max(abs(df['save_percentage_m'] - df['save_percentage']))"
   ]
  },
  {
   "cell_type": "markdown",
   "metadata": {},
   "source": [
    "Mean values:"
   ]
  },
  {
   "cell_type": "code",
   "execution_count": 75,
   "metadata": {},
   "outputs": [
    {
     "data": {
      "text/plain": [
       "games_played       28.476703\n",
       "goals_against      67.605735\n",
       "save_percentage     0.901179\n",
       "dtype: float64"
      ]
     },
     "execution_count": 75,
     "metadata": {},
     "output_type": "execute_result"
    }
   ],
   "source": [
    "df.agg('mean').iloc[[1, 8, 9]]"
   ]
  },
  {
   "cell_type": "markdown",
   "metadata": {},
   "source": [
    "Standard errors:"
   ]
  },
  {
   "cell_type": "code",
   "execution_count": 76,
   "metadata": {},
   "outputs": [
    {
     "data": {
      "text/plain": [
       "games_played       22.285395\n",
       "goals_against      53.351779\n",
       "save_percentage     0.071260\n",
       "dtype: float64"
      ]
     },
     "execution_count": 76,
     "metadata": {},
     "output_type": "execute_result"
    }
   ],
   "source": [
    "df.agg('std').iloc[[1, 8, 9]]"
   ]
  },
  {
   "cell_type": "markdown",
   "metadata": {},
   "source": [
    "Best save_percentage player of 2016-2017:"
   ]
  },
  {
   "cell_type": "code",
   "execution_count": 77,
   "metadata": {},
   "outputs": [
    {
     "data": {
      "text/html": [
       "<div>\n",
       "<style>\n",
       "    .dataframe thead tr:only-child th {\n",
       "        text-align: right;\n",
       "    }\n",
       "\n",
       "    .dataframe thead th {\n",
       "        text-align: left;\n",
       "    }\n",
       "\n",
       "    .dataframe tbody tr th {\n",
       "        vertical-align: top;\n",
       "    }\n",
       "</style>\n",
       "<table border=\"1\" class=\"dataframe\">\n",
       "  <thead>\n",
       "    <tr style=\"text-align: right;\">\n",
       "      <th></th>\n",
       "      <th>player</th>\n",
       "      <th>save_percentage</th>\n",
       "    </tr>\n",
       "  </thead>\n",
       "  <tbody>\n",
       "    <tr>\n",
       "      <th>2</th>\n",
       "      <td>Sergei Bobrovsky</td>\n",
       "      <td>0.931</td>\n",
       "    </tr>\n",
       "  </tbody>\n",
       "</table>\n",
       "</div>"
      ],
      "text/plain": [
       "             player  save_percentage\n",
       "2  Sergei Bobrovsky            0.931"
      ]
     },
     "execution_count": 77,
     "metadata": {},
     "output_type": "execute_result"
    }
   ],
   "source": [
    "saveptg = df[(df['season'] == '2016-17') & (df['games_played'] > 40)]['save_percentage']\n",
    "df[df['player'].index == saveptg.argmax()].iloc[:, [1, 13]]"
   ]
  },
  {
   "cell_type": "markdown",
   "metadata": {},
   "source": [
    "Best player in term of saves for each season: "
   ]
  },
  {
   "cell_type": "code",
   "execution_count": 78,
   "metadata": {
    "scrolled": true
   },
   "outputs": [
    {
     "data": {
      "text/html": [
       "<div>\n",
       "<style>\n",
       "    .dataframe thead tr:only-child th {\n",
       "        text-align: right;\n",
       "    }\n",
       "\n",
       "    .dataframe thead th {\n",
       "        text-align: left;\n",
       "    }\n",
       "\n",
       "    .dataframe tbody tr th {\n",
       "        vertical-align: top;\n",
       "    }\n",
       "</style>\n",
       "<table border=\"1\" class=\"dataframe\">\n",
       "  <thead>\n",
       "    <tr style=\"text-align: right;\">\n",
       "      <th></th>\n",
       "      <th>season</th>\n",
       "      <th>player</th>\n",
       "      <th>saves</th>\n",
       "    </tr>\n",
       "  </thead>\n",
       "  <tbody>\n",
       "    <tr>\n",
       "      <th>0</th>\n",
       "      <td>2016-17</td>\n",
       "      <td>Cam Talbot</td>\n",
       "      <td>1946</td>\n",
       "    </tr>\n",
       "    <tr>\n",
       "      <th>102</th>\n",
       "      <td>2015-16</td>\n",
       "      <td>Henrik Lundqvist</td>\n",
       "      <td>1788</td>\n",
       "    </tr>\n",
       "    <tr>\n",
       "      <th>189</th>\n",
       "      <td>2014-15</td>\n",
       "      <td>Braden Holtby</td>\n",
       "      <td>1887</td>\n",
       "    </tr>\n",
       "  </tbody>\n",
       "</table>\n",
       "</div>"
      ],
      "text/plain": [
       "      season            player  saves\n",
       "0    2016-17        Cam Talbot   1946\n",
       "102  2015-16  Henrik Lundqvist   1788\n",
       "189  2014-15     Braden Holtby   1887"
      ]
     },
     "execution_count": 78,
     "metadata": {},
     "output_type": "execute_result"
    }
   ],
   "source": [
    "df[df.groupby(['season'])['saves'].transform(max) == df['saves']].iloc[:,[2,1,11]]"
   ]
  },
  {
   "cell_type": "markdown",
   "metadata": {},
   "source": [
    "goalkeepers who have won at least 30 games in all seasons:"
   ]
  },
  {
   "cell_type": "code",
   "execution_count": 79,
   "metadata": {},
   "outputs": [
    {
     "name": "stdout",
     "output_type": "stream",
     "text": [
      "\n",
      "Braden Holtby\n",
      "Corey Crawford\n",
      "Devan Dubnyk\n",
      "Pekka Rinne\n",
      "Tuukka Rask"
     ]
    }
   ],
   "source": [
    "idx1 = pd.crosstab(df[df['wins'] > 30]['player'], df['season'][df['wins'] > 30]).sum(axis=1)\n",
    "aa = pd.crosstab(df[df['wins'] > 30]['player'], df['season']).sum(axis = 1) == 3\n",
    "for i in range(len(aa)):\n",
    "    if aa[i] == True and aa[i] in df['player']:\n",
    "       # print(aa.index[i], df[df['player']==aa.index[i]]['wins'].sum())\n",
    "        sys.stdout.write('\\n'+aa.index[i])\n"
   ]
  }
 ],
 "metadata": {
  "kernelspec": {
   "display_name": "Python 3",
   "language": "python",
   "name": "python3"
  },
  "language_info": {
   "codemirror_mode": {
    "name": "ipython",
    "version": 3
   },
   "file_extension": ".py",
   "mimetype": "text/x-python",
   "name": "python",
   "nbconvert_exporter": "python",
   "pygments_lexer": "ipython3",
   "version": "3.6.1"
  }
 },
 "nbformat": 4,
 "nbformat_minor": 2
}
