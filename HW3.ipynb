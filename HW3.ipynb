{
 "cells": [
  {
   "cell_type": "markdown",
   "metadata": {},
   "source": [
    "# Задача 1.\n",
    "Напишите простейший класс, который реализует оценку линейной регрессионной модели методом OLS и позволяет получить оценки коэффициентов, их ковариационной матрицы, предсказанные значения и оценку стандартной ошибки прогноза для случая гомоскедастичности. Из модулей разрешается использовать только numpy."
   ]
  },
  {
   "cell_type": "code",
   "execution_count": 1,
   "metadata": {
    "collapsed": false
   },
   "outputs": [],
   "source": [
    "import numpy as np\n",
    "import matplotlib.pyplot as plt\n",
    "import math\n",
    "from scipy import stats"
   ]
  },
  {
   "cell_type": "code",
   "execution_count": 2,
   "metadata": {
    "collapsed": false
   },
   "outputs": [],
   "source": [
    "class OLS():\n",
    "    def __init__ (self, x, y):\n",
    "        self.x=y\n",
    "        self.y=x\n",
    "        self.beta = ((np.linalg.inv((self.x.T).dot(self.x)).dot(self.x.T)).dot(self.y))\n",
    "        self.sigma = (1./(self.x.shape[0]-self.x.shape[1]))*((self.y - (self.x).dot(self.beta)).T).dot(self.y - (self.x).dot(self.beta))\n",
    "        self.V = self.sigma*(np.linalg.inv((self.x.T).dot(self.x)))\n",
    "    def predict (self, a):\n",
    "        self.input = a\n",
    "        self.z =(self.input.T).dot(self.beta)\n",
    "        self.Vy = self.sigma*(1+(self.input.T).dot(np.linalg.inv((self.x.T).dot(self.x))).dot(self.input))\n",
    "        return (self.z , self.Vy)"
   ]
  },
  {
   "cell_type": "code",
   "execution_count": 3,
   "metadata": {
    "collapsed": false
   },
   "outputs": [],
   "source": [
    " X = np.random.randn(100,3)"
   ]
  },
  {
   "cell_type": "code",
   "execution_count": 4,
   "metadata": {
    "collapsed": false
   },
   "outputs": [],
   "source": [
    "Y = X.dot(np.array([1,2,3]))+np.random.randn(100)"
   ]
  },
  {
   "cell_type": "code",
   "execution_count": 5,
   "metadata": {
    "collapsed": false
   },
   "outputs": [],
   "source": [
    "model = OLS(Y, X)"
   ]
  },
  {
   "cell_type": "code",
   "execution_count": 6,
   "metadata": {
    "collapsed": false
   },
   "outputs": [
    {
     "data": {
      "text/plain": [
       "array([ 1.05022053,  2.03336265,  2.9952136 ])"
      ]
     },
     "execution_count": 6,
     "metadata": {},
     "output_type": "execute_result"
    }
   ],
   "source": [
    "model.beta"
   ]
  },
  {
   "cell_type": "code",
   "execution_count": 7,
   "metadata": {
    "collapsed": false
   },
   "outputs": [
    {
     "data": {
      "text/plain": [
       "array([[ 0.00730585, -0.00076047,  0.0002563 ],\n",
       "       [-0.00076047,  0.0067408 , -0.00063082],\n",
       "       [ 0.0002563 , -0.00063082,  0.00890235]])"
      ]
     },
     "execution_count": 7,
     "metadata": {},
     "output_type": "execute_result"
    }
   ],
   "source": [
    "model.V"
   ]
  },
  {
   "cell_type": "code",
   "execution_count": 8,
   "metadata": {
    "collapsed": false
   },
   "outputs": [
    {
     "data": {
      "text/plain": [
       "(4.0454341274746666, 0.84564519096856305)"
      ]
     },
     "execution_count": 8,
     "metadata": {},
     "output_type": "execute_result"
    }
   ],
   "source": [
    "model.predict(np.array([1,0,1]))"
   ]
  },
  {
   "cell_type": "markdown",
   "metadata": {},
   "source": [
    "# Задача2.\n",
    "Для начала сгенерируйтевыборку{(𝑥𝑖,𝑦𝑖),𝑖=1,...,200}следующимобразом:\n",
    "\n",
    "(1) Сгенерируйте коэффициенты 𝛽0, ..., 𝛽10 как величины, равномерно распределенные на интервале (0, 1) (numpy.random.rand()).\n",
    "\n",
    "(2) Сгенерируйте величины 𝑥𝑖 как случайные числа, распределенные равномерно в интервале (−5, 5).\n",
    "\n",
    "(3) Сгенерируйте ошибки 𝑢𝑖 как случайные числа, подчиняющиеся нормальному рас- пределению 𝒩(0, 100) (numpy.random.randn()).\n",
    "\n",
    "(4) Сгенерируйте 𝑦𝑖 следующим образом:\n",
    "10 𝑥𝑖𝑘\n",
    "𝑦𝑖 = ∑ 𝛽𝑘 𝑘! + 𝑢𝑖.\n",
    "𝑘=0\n",
    "\n",
    "(5) Нарисуйтеоблакоточек,соответствующееданнойвыборке(matplotlib.pyplot.scatter()). Пример см. на рис. 1.\n",
    "Далее с помощью класса OLS из задачи 1 для 𝐾 = 1, ..., 4 оцените модель 𝐾\n",
    "𝑦𝑖 = ∑ 𝛾𝑘𝑥𝑘 + 𝑢𝑖 𝑘=0\n",
    "и изобразите эти линии регрессий на рисунке вместе с облаком точек (получите предска- занные значения 𝑦̂ для 𝑥, принимающего значения на некоторой решетке на [−5, 5], затем нарисуйте график с помощью matplotlib.pyplot.plot()). Пример см. на рис. 2."
   ]
  },
  {
   "cell_type": "code",
   "execution_count": 9,
   "metadata": {
    "collapsed": false
   },
   "outputs": [
    {
     "data": {
      "text/plain": [
       "array([ 0.62715823,  0.5837953 ,  0.89281147,  0.32373927,  0.32211804,\n",
       "        0.31292118,  0.84390371,  0.59233228,  0.0036831 ,  0.67473986,\n",
       "        0.87649526])"
      ]
     },
     "execution_count": 9,
     "metadata": {},
     "output_type": "execute_result"
    }
   ],
   "source": [
    "#beta = np.array([1,1])\n",
    "beta = np.random.rand(11)\n",
    "beta"
   ]
  },
  {
   "cell_type": "code",
   "execution_count": 10,
   "metadata": {
    "collapsed": false
   },
   "outputs": [],
   "source": [
    "xi = np.random.uniform(-5,5,200)"
   ]
  },
  {
   "cell_type": "code",
   "execution_count": 11,
   "metadata": {
    "collapsed": false
   },
   "outputs": [],
   "source": [
    "#plt.hist((np.random.randn(200)*10), bins = 50)\n",
    "#plt.show()\n",
    "u = np.random.randn(200)*10"
   ]
  },
  {
   "cell_type": "code",
   "execution_count": 12,
   "metadata": {
    "collapsed": false
   },
   "outputs": [],
   "source": [
    "def fun(g):\n",
    "    k=0\n",
    "    for i in range(len(beta)):\n",
    "        k = ((g**i)*beta[i])/math.factorial(i)+k\n",
    "    return k"
   ]
  },
  {
   "cell_type": "code",
   "execution_count": 13,
   "metadata": {
    "collapsed": false
   },
   "outputs": [
    {
     "data": {
      "text/plain": [
       "1.7286368884467069"
      ]
     },
     "execution_count": 13,
     "metadata": {},
     "output_type": "execute_result"
    }
   ],
   "source": [
    "fun(1)"
   ]
  },
  {
   "cell_type": "code",
   "execution_count": 14,
   "metadata": {
    "collapsed": false
   },
   "outputs": [],
   "source": [
    "yi = np.zeros((200,))\n",
    "for j in range(len(yi)):\n",
    "        #for n in range(len(u)):\n",
    "    yi[j] = fun(xi[j])+u[j]    "
   ]
  },
  {
   "cell_type": "code",
   "execution_count": 15,
   "metadata": {
    "collapsed": false,
    "scrolled": true
   },
   "outputs": [
    {
     "data": {
      "image/png": "[encoded data removed]",
      "text/plain": [
       "<matplotlib.figure.Figure at 0x113c30cd0>"
      ]
     },
     "metadata": {},
     "output_type": "display_data"
    }
   ],
   "source": [
    "plt.scatter(xi , yi)\n",
    "plt.xlabel('x')\n",
    "plt.ylabel('y')\n",
    "plt.show()"
   ]
  },
  {
   "cell_type": "code",
   "execution_count": 16,
   "metadata": {
    "collapsed": false,
    "scrolled": true
   },
   "outputs": [
    {
     "data": {
      "text/plain": [
       "array([ 1.,  1.,  1.,  1.,  1.,  1.,  1.,  1.,  1.,  1.,  1.,  1.,  1.,\n",
       "        1.,  1.,  1.,  1.,  1.,  1.,  1.,  1.,  1.,  1.,  1.,  1.,  1.,\n",
       "        1.,  1.,  1.,  1.,  1.,  1.,  1.,  1.,  1.,  1.,  1.,  1.,  1.,\n",
       "        1.,  1.,  1.,  1.,  1.,  1.,  1.,  1.,  1.,  1.,  1.,  1.,  1.,\n",
       "        1.,  1.,  1.,  1.,  1.,  1.,  1.,  1.,  1.,  1.,  1.,  1.,  1.,\n",
       "        1.,  1.,  1.,  1.,  1.,  1.,  1.,  1.,  1.,  1.,  1.,  1.,  1.,\n",
       "        1.,  1.,  1.,  1.,  1.,  1.,  1.,  1.,  1.,  1.,  1.,  1.,  1.,\n",
       "        1.,  1.,  1.,  1.,  1.,  1.,  1.,  1.,  1.,  1.,  1.,  1.,  1.,\n",
       "        1.,  1.,  1.,  1.,  1.,  1.,  1.,  1.,  1.,  1.,  1.,  1.,  1.,\n",
       "        1.,  1.,  1.,  1.,  1.,  1.,  1.,  1.,  1.,  1.,  1.,  1.,  1.,\n",
       "        1.,  1.,  1.,  1.,  1.,  1.,  1.,  1.,  1.,  1.,  1.,  1.,  1.,\n",
       "        1.,  1.,  1.,  1.,  1.,  1.,  1.,  1.,  1.,  1.,  1.,  1.,  1.,\n",
       "        1.,  1.,  1.,  1.,  1.,  1.,  1.,  1.,  1.,  1.,  1.,  1.,  1.,\n",
       "        1.,  1.,  1.,  1.,  1.,  1.,  1.,  1.,  1.,  1.,  1.,  1.,  1.,\n",
       "        1.,  1.,  1.,  1.,  1.,  1.,  1.,  1.,  1.,  1.,  1.,  1.,  1.,\n",
       "        1.,  1.,  1.,  1.,  1.])"
      ]
     },
     "execution_count": 16,
     "metadata": {},
     "output_type": "execute_result"
    }
   ],
   "source": [
    "np.power( xi, 0)"
   ]
  },
  {
   "cell_type": "code",
   "execution_count": 17,
   "metadata": {
    "collapsed": true
   },
   "outputs": [],
   "source": [
    "def create_matrix ( x , K):\n",
    "    m = np.zeros( (len(xi) , K+1))\n",
    "    for i in range(K+1):\n",
    "        s = np.power( x, i)\n",
    "        m[:,i ] =s\n",
    "        #print(s)\n",
    "    return (m)\n",
    "\n"
   ]
  },
  {
   "cell_type": "code",
   "execution_count": 18,
   "metadata": {
    "collapsed": false
   },
   "outputs": [],
   "source": [
    "X_1 = create_matrix ( xi , 1)\n",
    "model1 = OLS(yi, X_1)"
   ]
  },
  {
   "cell_type": "code",
   "execution_count": 19,
   "metadata": {
    "collapsed": true
   },
   "outputs": [],
   "source": [
    "X_2 = create_matrix ( xi , 2)\n",
    "model2 = OLS(yi, X_2)"
   ]
  },
  {
   "cell_type": "code",
   "execution_count": 20,
   "metadata": {
    "collapsed": true
   },
   "outputs": [],
   "source": [
    "X_3 = create_matrix ( xi , 3)\n",
    "model3 = OLS(yi, X_3)"
   ]
  },
  {
   "cell_type": "code",
   "execution_count": 21,
   "metadata": {
    "collapsed": false
   },
   "outputs": [],
   "source": [
    "X_4 = create_matrix ( xi , 4)\n",
    "model4 = OLS(yi, X_4)"
   ]
  },
  {
   "cell_type": "code",
   "execution_count": 22,
   "metadata": {
    "collapsed": false
   },
   "outputs": [],
   "source": [
    "xrand = np.arange(-5, 5, 0.05)"
   ]
  },
  {
   "cell_type": "code",
   "execution_count": 23,
   "metadata": {
    "collapsed": false
   },
   "outputs": [
    {
     "data": {
      "image/png": "[encoded data removed]",
      "text/plain": [
       "<matplotlib.figure.Figure at 0x11649d5d0>"
      ]
     },
     "metadata": {},
     "output_type": "display_data"
    }
   ],
   "source": [
    "plt.scatter(xi , yi, c = 'blue')\n",
    "value = np.zeros (len (xrand))\n",
    "errors = np.zeros (len (xrand))\n",
    "for k in range (1,5):\n",
    "    X = create_matrix ( xi , k)\n",
    "    modelx = OLS(yi, X)\n",
    "    for t in range (len(xrand)):\n",
    "        value[t] = (modelx.predict(create_matrix(xrand, k)[t]))[0]\n",
    "        errors[t] = (modelx.predict(create_matrix(xrand, k)[t]))[1]\n",
    "    plt.plot( xrand , value,label = 'K=' + str(k))\n",
    "plt.xlabel('x')\n",
    "plt.ylabel('y')\n",
    "plt.legend()    \n",
    "plt.show()    "
   ]
  },
  {
   "cell_type": "code",
   "execution_count": 24,
   "metadata": {
    "collapsed": false
   },
   "outputs": [
    {
     "data": {
      "image/png": "[encoded data removed]",
      "text/plain": [
       "<matplotlib.figure.Figure at 0x116590a50>"
      ]
     },
     "metadata": {},
     "output_type": "display_data"
    }
   ],
   "source": [
    "plt.scatter(xi , yi, c = 'blue')\n",
    "value = np.zeros (len (xrand))\n",
    "errors = np.zeros (len (xrand))\n",
    "K = 4\n",
    "X = create_matrix ( xi , k)\n",
    "modelx = OLS(yi, X)\n",
    "for t in range (len(xrand)):\n",
    "    value[t] = (modelx.predict(create_matrix(xrand, k)[t]))[0]\n",
    "    errors[t] = (modelx.predict(create_matrix(xrand, k)[t]))[1]\n",
    "plt.plot( xrand , value,label = 'K=' + str(k))\n",
    "plt.fill_between(  xrand,   value - 1.64*np.sqrt(errors), value + 1.64*np.sqrt(errors), alpha = 0.5)\n",
    "plt.xlabel('x')\n",
    "plt.ylabel('y')\n",
    "plt.legend()    \n",
    "plt.show()    "
   ]
  },
  {
   "cell_type": "markdown",
   "metadata": {},
   "source": [
    "# Задача3. \n",
    "Сгенерируйтематрицу𝐴размера100×100случайныхвеличин,подчиняющихся стандартному нормальному распределению. Для каждого столбца сосчитайте 90%-ный доверительный интервал для математического ожидания и выведите на печать\n",
    "(1) Массив логических величин, показывающих, принадлежит ли число 0 соответ- ствующему доверительному интервалу. (Квантиль 𝑡-распределения с 𝑚 степенями свободы можно сосчитать с помощью функции scipy.stats.t.ppf(p,m))\n",
    "(2) Число столбцов, для которых значение элементов массива из предыдущего пункта истинно.\n",
    "Повторите эти же вычисления для каждой строки. Прокомментируйте качество генератора случайных чисел в numpy. Пример вывода (для столбцов):"
   ]
  },
  {
   "cell_type": "code",
   "execution_count": 25,
   "metadata": {
    "collapsed": false
   },
   "outputs": [],
   "source": [
    "G = np.random.randn(100,100)"
   ]
  },
  {
   "cell_type": "code",
   "execution_count": 26,
   "metadata": {
    "collapsed": false
   },
   "outputs": [],
   "source": [
    "SE = G.std(axis=0)/(np.sqrt(100))"
   ]
  },
  {
   "cell_type": "code",
   "execution_count": 27,
   "metadata": {
    "collapsed": false
   },
   "outputs": [],
   "source": [
    "mean = G.mean(axis=0)"
   ]
  },
  {
   "cell_type": "code",
   "execution_count": 28,
   "metadata": {
    "collapsed": false
   },
   "outputs": [
    {
     "data": {
      "text/plain": [
       "1.6448536269514729"
      ]
     },
     "execution_count": 28,
     "metadata": {},
     "output_type": "execute_result"
    }
   ],
   "source": [
    "alpha = 1-0.9\n",
    "z = abs(stats.norm.ppf(alpha/2))\n",
    "z"
   ]
  },
  {
   "cell_type": "code",
   "execution_count": 29,
   "metadata": {
    "collapsed": false
   },
   "outputs": [
    {
     "data": {
      "text/plain": [
       "'True'"
      ]
     },
     "execution_count": 29,
     "metadata": {},
     "output_type": "execute_result"
    }
   ],
   "source": [
    "b = 0\n",
    "Bul = []\n",
    "ci_low = mean - z * SE # ci confidence interval\n",
    "ci_hi = mean + z * SE\n",
    "for i in range(len(ci_low)):\n",
    "    if (ci_low[i] <b< ci_hi[i]):\n",
    "        Bul.append('True')\n",
    "    else:\n",
    "        Bul.append('False')\n",
    "Bul[3]"
   ]
  },
  {
   "cell_type": "code",
   "execution_count": 30,
   "metadata": {
    "collapsed": false
   },
   "outputs": [
    {
     "data": {
      "text/plain": [
       "85"
      ]
     },
     "execution_count": 30,
     "metadata": {},
     "output_type": "execute_result"
    }
   ],
   "source": [
    "Bul.count('True')"
   ]
  },
  {
   "cell_type": "code",
   "execution_count": 31,
   "metadata": {
    "collapsed": false
   },
   "outputs": [],
   "source": [
    "SE2 = G.std(axis=1)/(np.sqrt(100))\n",
    "mean2 = G.mean(axis=1)\n"
   ]
  },
  {
   "cell_type": "code",
   "execution_count": 32,
   "metadata": {
    "collapsed": false
   },
   "outputs": [],
   "source": [
    "b2 = 0\n",
    "Bul2 = []\n",
    "ci_low2 = mean2 - z * SE2 # ci confidence interval\n",
    "ci_hi2 = mean2 + z * SE2\n",
    "for i in range(len(ci_low2)):\n",
    "    if (ci_low2[i] <b2< ci_hi2[i]):\n",
    "        Bul2.append('True')\n",
    "    else:\n",
    "        Bul2.append('False')"
   ]
  },
  {
   "cell_type": "code",
   "execution_count": 33,
   "metadata": {
    "collapsed": false
   },
   "outputs": [
    {
     "data": {
      "text/plain": [
       "93"
      ]
     },
     "execution_count": 33,
     "metadata": {},
     "output_type": "execute_result"
    }
   ],
   "source": [
    "Bul2.count('True')"
   ]
  },
  {
   "cell_type": "markdown",
   "metadata": {},
   "source": [
    " Из этого теста: если бы генератор работал идеально, то 90% выборки бы попадало в заданный доверительный интервал, то есть значение TRUE встречалось бы 90 раз, но мы этого не наблюдаем, число TRUE не всегда равно 90 для выборки. Однако, стоит заметить, что числа все равно близкие к 90, что говорит о небольшом отклонении от нормального распределения."
   ]
  },
  {
   "cell_type": "markdown",
   "metadata": {},
   "source": [
    "# Задача 4. \n",
    "На my.NES вы можете скачать файл goalies-2014-2016.csv со статистическими данными о вратарях Национальной хоккейной лиги. \n",
    "\n",
    "(1) Загрузите данный файл в pandas.DataFrame. Заметьте, что в нем разделителями слу- жат точки с запятой. Покажите первые 5 строк первых шести столбцов полученного набора данных. Пример вывода:\n",
    "\n",
    "(2) Проверьте,чтопроцентотраженныхбросков(save_percentage)сосчитанправильно (с точностью до третьего знака после запятой). Для этого сосчитайте его сами (с использованием показателей числа отраженных бросков (saves) и общего числа бросков (shots_against)) и найдите наибольшее абсолютное отклонение. \n",
    "\n",
    "(3) Вычислите средние и стандартные отклонения для следующих показателей: число проведенных игр (games_played), число пропущенных шайб (goals_against), процент отраженных бросков (save_percentage). \n",
    "\n",
    "(4) Для сезона 2016-17 найдите вратаря (player) с наибольшим процентом отраженных бросков (save_percentage) среди тех, кто провел более 40 матчей (games_played)\n",
    "\n",
    "(5) Для каждого сезона найдите вратаря, который отразил наибольшее число бросков (saves). \n",
    "\n",
    "(6) Найдите всех вратарей, которые в каждом из трех сезонов выигрывали не менее 30 матчей (wins). "
   ]
  },
  {
   "cell_type": "code",
   "execution_count": 34,
   "metadata": {
    "collapsed": true
   },
   "outputs": [],
   "source": [
    "import pandas as pd"
   ]
  },
  {
   "cell_type": "code",
   "execution_count": 35,
   "metadata": {
    "collapsed": false,
    "scrolled": true
   },
   "outputs": [],
   "source": [
    "frame = pd.read_csv('goalies-2014-2016.csv',header=0,sep = ';')"
   ]
  },
  {
   "cell_type": "raw",
   "metadata": {},
   "source": [
    "(1) Загрузите данный файл в pandas.DataFrame. Заметьте, что в нем разделителями слу- жат точки с запятой. Покажите первые 5 строк первых шести столбцов полученного набора данных. Пример вывода:"
   ]
  },
  {
   "cell_type": "code",
   "execution_count": 36,
   "metadata": {
    "collapsed": false
   },
   "outputs": [
    {
     "data": {
      "text/html": [
       "<div>\n",
       "<table border=\"1\" class=\"dataframe\">\n",
       "  <thead>\n",
       "    <tr style=\"text-align: right;\">\n",
       "      <th></th>\n",
       "      <th>n</th>\n",
       "      <th>player</th>\n",
       "      <th>season</th>\n",
       "      <th>team</th>\n",
       "      <th>position</th>\n",
       "      <th>games_played</th>\n",
       "    </tr>\n",
       "  </thead>\n",
       "  <tbody>\n",
       "    <tr>\n",
       "      <th>0</th>\n",
       "      <td>1</td>\n",
       "      <td>Cam Talbot</td>\n",
       "      <td>2016-17</td>\n",
       "      <td>EDM</td>\n",
       "      <td>G</td>\n",
       "      <td>73</td>\n",
       "    </tr>\n",
       "    <tr>\n",
       "      <th>1</th>\n",
       "      <td>2</td>\n",
       "      <td>Braden Holtby</td>\n",
       "      <td>2016-17</td>\n",
       "      <td>WSH</td>\n",
       "      <td>G</td>\n",
       "      <td>63</td>\n",
       "    </tr>\n",
       "    <tr>\n",
       "      <th>2</th>\n",
       "      <td>3</td>\n",
       "      <td>Sergei Bobrovsky</td>\n",
       "      <td>2016-17</td>\n",
       "      <td>CBJ</td>\n",
       "      <td>G</td>\n",
       "      <td>63</td>\n",
       "    </tr>\n",
       "    <tr>\n",
       "      <th>3</th>\n",
       "      <td>4</td>\n",
       "      <td>Devan Dubnyk</td>\n",
       "      <td>2016-17</td>\n",
       "      <td>MIN</td>\n",
       "      <td>G</td>\n",
       "      <td>65</td>\n",
       "    </tr>\n",
       "    <tr>\n",
       "      <th>4</th>\n",
       "      <td>5</td>\n",
       "      <td>Tuukka Rask</td>\n",
       "      <td>2016-17</td>\n",
       "      <td>BOS</td>\n",
       "      <td>G</td>\n",
       "      <td>65</td>\n",
       "    </tr>\n",
       "  </tbody>\n",
       "</table>\n",
       "</div>"
      ],
      "text/plain": [
       "   n            player   season team position  games_played\n",
       "0  1        Cam Talbot  2016-17  EDM        G            73\n",
       "1  2     Braden Holtby  2016-17  WSH        G            63\n",
       "2  3  Sergei Bobrovsky  2016-17  CBJ        G            63\n",
       "3  4      Devan Dubnyk  2016-17  MIN        G            65\n",
       "4  5       Tuukka Rask  2016-17  BOS        G            65"
      ]
     },
     "execution_count": 36,
     "metadata": {},
     "output_type": "execute_result"
    }
   ],
   "source": [
    "frame.iloc[0:5,0:6]"
   ]
  },
  {
   "cell_type": "raw",
   "metadata": {},
   "source": [
    "(2) Проверьте,чтопроцентотраженныхбросков(save_percentage)сосчитанправильно (с точностью до третьего знака после запятой). Для этого сосчитайте его сами (с использованием показателей числа отраженных бросков (saves) и общего числа бросков (shots_against)) и найдите наибольшее абсолютное отклонение."
   ]
  },
  {
   "cell_type": "code",
   "execution_count": 37,
   "metadata": {
    "collapsed": false
   },
   "outputs": [
    {
     "data": {
      "text/plain": [
       "0.00059325605900950595"
      ]
     },
     "execution_count": 37,
     "metadata": {},
     "output_type": "execute_result"
    }
   ],
   "source": [
    "maximum = max(abs(frame['save_percentage']-frame['saves']/frame['shots_against']))\n",
    "maximum"
   ]
  },
  {
   "cell_type": "raw",
   "metadata": {},
   "source": [
    "(3) Вычислите средние и стандартные отклонения для следующих показателей: число проведенных игр (games_played), число пропущенных шайб (goals_against), процент отраженных бросков (save_percentage)."
   ]
  },
  {
   "cell_type": "code",
   "execution_count": 38,
   "metadata": {
    "collapsed": false
   },
   "outputs": [
    {
     "data": {
      "text/plain": [
       "games_played       28.476703\n",
       "goals_against      67.605735\n",
       "save_percentage     0.901179\n",
       "dtype: float64"
      ]
     },
     "execution_count": 38,
     "metadata": {},
     "output_type": "execute_result"
    }
   ],
   "source": [
    "frame [ ['games_played', 'goals_against', 'save_percentage'] ].mean(axis = 0)"
   ]
  },
  {
   "cell_type": "code",
   "execution_count": 50,
   "metadata": {
    "collapsed": false
   },
   "outputs": [
    {
     "data": {
      "text/plain": [
       "games_played       22.285395\n",
       "goals_against      53.351779\n",
       "save_percentage     0.071260\n",
       "dtype: float64"
      ]
     },
     "execution_count": 50,
     "metadata": {},
     "output_type": "execute_result"
    }
   ],
   "source": [
    "frame [ ['games_played', 'goals_against', 'save_percentage'] ].std(axis = 0)"
   ]
  },
  {
   "cell_type": "code",
   "execution_count": 40,
   "metadata": {
    "collapsed": false
   },
   "outputs": [
    {
     "data": {
      "text/html": [
       "<div>\n",
       "<table border=\"1\" class=\"dataframe\">\n",
       "  <thead>\n",
       "    <tr style=\"text-align: right;\">\n",
       "      <th></th>\n",
       "      <th>player</th>\n",
       "      <th>save_percentage</th>\n",
       "    </tr>\n",
       "  </thead>\n",
       "  <tbody>\n",
       "    <tr>\n",
       "      <th>2</th>\n",
       "      <td>Sergei Bobrovsky</td>\n",
       "      <td>0.931</td>\n",
       "    </tr>\n",
       "  </tbody>\n",
       "</table>\n",
       "</div>"
      ],
      "text/plain": [
       "             player  save_percentage\n",
       "2  Sergei Bobrovsky            0.931"
      ]
     },
     "execution_count": 40,
     "metadata": {},
     "output_type": "execute_result"
    }
   ],
   "source": [
    "frame_4 = frame[(frame.season =='2016-17')& (frame.games_played > 40)  ]  \n",
    "frame_4[frame_4.save_percentage == max(frame_4.save_percentage)] [['player','save_percentage']]"
   ]
  },
  {
   "cell_type": "code",
   "execution_count": 41,
   "metadata": {
    "collapsed": true
   },
   "outputs": [],
   "source": [
    "#Для каждого сезона найдите вратаря, который отразил наибольшее число бросков (saves). "
   ]
  },
  {
   "cell_type": "code",
   "execution_count": 42,
   "metadata": {
    "collapsed": false
   },
   "outputs": [
    {
     "data": {
      "text/html": [
       "<div>\n",
       "<table border=\"1\" class=\"dataframe\">\n",
       "  <thead>\n",
       "    <tr style=\"text-align: right;\">\n",
       "      <th></th>\n",
       "      <th>season</th>\n",
       "      <th>player</th>\n",
       "      <th>saves</th>\n",
       "    </tr>\n",
       "  </thead>\n",
       "  <tbody>\n",
       "    <tr>\n",
       "      <th>0</th>\n",
       "      <td>2016-17</td>\n",
       "      <td>Cam Talbot</td>\n",
       "      <td>1946</td>\n",
       "    </tr>\n",
       "    <tr>\n",
       "      <th>102</th>\n",
       "      <td>2015-16</td>\n",
       "      <td>Henrik Lundqvist</td>\n",
       "      <td>1788</td>\n",
       "    </tr>\n",
       "    <tr>\n",
       "      <th>189</th>\n",
       "      <td>2014-15</td>\n",
       "      <td>Braden Holtby</td>\n",
       "      <td>1887</td>\n",
       "    </tr>\n",
       "  </tbody>\n",
       "</table>\n",
       "</div>"
      ],
      "text/plain": [
       "      season            player  saves\n",
       "0    2016-17        Cam Talbot   1946\n",
       "102  2015-16  Henrik Lundqvist   1788\n",
       "189  2014-15     Braden Holtby   1887"
      ]
     },
     "execution_count": 42,
     "metadata": {},
     "output_type": "execute_result"
    }
   ],
   "source": [
    "frame[ frame.saves.isin(frame.groupby('season').max().saves.values)  ]  [  ['season'   , 'player',  'saves'] ]"
   ]
  },
  {
   "cell_type": "raw",
   "metadata": {},
   "source": [
    "(6) Найдите всех вратарей, которые в каждом из трех сезонов выигрывали не менее 30 матчей (wins)."
   ]
  },
  {
   "cell_type": "code",
   "execution_count": 43,
   "metadata": {
    "collapsed": false,
    "scrolled": true
   },
   "outputs": [
    {
     "data": {
      "text/plain": [
       "player\n",
       "Aaron Dell            11\n",
       "Al Montoya             6\n",
       "Alex Nedeljkovic       0\n",
       "Alex Stalock           1\n",
       "Anders Lindback        5\n",
       "Anders Nilsson        10\n",
       "Andrei Vasilevskiy     7\n",
       "Andrew Hammond         0\n",
       "Andrey Makarov         0\n",
       "Anthony Stolarz        2\n",
       "Antoine Bibeau         1\n",
       "Anton Forsberg         0\n",
       "Anton Khudobin         3\n",
       "Antti Niemi           12\n",
       "Antti Raanta           7\n",
       "Ben Bishop            18\n",
       "Ben Scrivens           5\n",
       "Braden Holtby         41\n",
       "Brian Elliott         23\n",
       "Calvin Pickard         6\n",
       "Cam Talbot            21\n",
       "Cam Ward              22\n",
       "Carey Price           10\n",
       "Carter Hutton          6\n",
       "Chad Johnson           8\n",
       "Charlie Lindgren       1\n",
       "Chris Driedger         0\n",
       "Christopher Gibson     1\n",
       "Connor Hellebuyck     13\n",
       "Corey Crawford        32\n",
       "                      ..\n",
       "Ondrej Pavelec         4\n",
       "Pekka Rinne           31\n",
       "Peter Budaj            1\n",
       "Petr Mrazek           16\n",
       "Pheonix Copley         0\n",
       "Philipp Grubauer       1\n",
       "Ray Emery             10\n",
       "Reto Berra             0\n",
       "Richard Bachman        1\n",
       "Rob Zepp               5\n",
       "Roberto Luongo        17\n",
       "Robin Lehner           5\n",
       "Roman Will             0\n",
       "Ryan Miller           17\n",
       "Scott Clemmensen       0\n",
       "Scott Darling          9\n",
       "Scott Wedgewood        2\n",
       "Semyon Varlamov        6\n",
       "Sergei Bobrovsky      15\n",
       "Spencer Martin         0\n",
       "Steve Mason           18\n",
       "Thomas Greiss          9\n",
       "Tom McCollum           1\n",
       "Tristan Jarry          0\n",
       "Troy Grosenick         1\n",
       "Tuukka Rask           31\n",
       "Tyler Bunz             0\n",
       "Viktor Fasth           6\n",
       "Yann Danis             0\n",
       "Zane McIntyre          0\n",
       "Name: wins, dtype: int64"
      ]
     },
     "execution_count": 43,
     "metadata": {},
     "output_type": "execute_result"
    }
   ],
   "source": [
    "frame.groupby( 'player').min().wins"
   ]
  },
  {
   "cell_type": "code",
   "execution_count": 44,
   "metadata": {
    "collapsed": true
   },
   "outputs": [],
   "source": [
    "#найдем сначала игроков, которые поиграли в трех сезонах"
   ]
  },
  {
   "cell_type": "code",
   "execution_count": 45,
   "metadata": {
    "collapsed": false
   },
   "outputs": [],
   "source": [
    "players_in_3_seasons =   (frame.groupby('player').count().season ==3)"
   ]
  },
  {
   "cell_type": "code",
   "execution_count": 46,
   "metadata": {
    "collapsed": false,
    "scrolled": true
   },
   "outputs": [],
   "source": [
    "players_in_3_seasons = players_in_3_seasons[players_in_3_seasons ==True]"
   ]
  },
  {
   "cell_type": "code",
   "execution_count": 47,
   "metadata": {
    "collapsed": false
   },
   "outputs": [],
   "source": [
    "frame_6 = frame[frame.player.isin(  players_in_3_seasons.index)]"
   ]
  },
  {
   "cell_type": "code",
   "execution_count": 48,
   "metadata": {
    "collapsed": false
   },
   "outputs": [],
   "source": [
    "frame_6_2  =frame_6 .groupby('player').min()"
   ]
  },
  {
   "cell_type": "code",
   "execution_count": 49,
   "metadata": {
    "collapsed": false
   },
   "outputs": [
    {
     "data": {
      "text/html": [
       "<div>\n",
       "<table border=\"1\" class=\"dataframe\">\n",
       "  <thead>\n",
       "    <tr style=\"text-align: right;\">\n",
       "      <th></th>\n",
       "      <th>wins</th>\n",
       "    </tr>\n",
       "    <tr>\n",
       "      <th>player</th>\n",
       "      <th></th>\n",
       "    </tr>\n",
       "  </thead>\n",
       "  <tbody>\n",
       "    <tr>\n",
       "      <th>Braden Holtby</th>\n",
       "      <td>41</td>\n",
       "    </tr>\n",
       "    <tr>\n",
       "      <th>Corey Crawford</th>\n",
       "      <td>32</td>\n",
       "    </tr>\n",
       "    <tr>\n",
       "      <th>Devan Dubnyk</th>\n",
       "      <td>32</td>\n",
       "    </tr>\n",
       "    <tr>\n",
       "      <th>Henrik Lundqvist</th>\n",
       "      <td>30</td>\n",
       "    </tr>\n",
       "    <tr>\n",
       "      <th>Pekka Rinne</th>\n",
       "      <td>31</td>\n",
       "    </tr>\n",
       "    <tr>\n",
       "      <th>Tuukka Rask</th>\n",
       "      <td>31</td>\n",
       "    </tr>\n",
       "  </tbody>\n",
       "</table>\n",
       "</div>"
      ],
      "text/plain": [
       "                  wins\n",
       "player                \n",
       "Braden Holtby       41\n",
       "Corey Crawford      32\n",
       "Devan Dubnyk        32\n",
       "Henrik Lundqvist    30\n",
       "Pekka Rinne         31\n",
       "Tuukka Rask         31"
      ]
     },
     "execution_count": 49,
     "metadata": {},
     "output_type": "execute_result"
    }
   ],
   "source": [
    "frame_6_2[frame_6_2['wins'] >=30] [ [ 'wins']  ]"
   ]
  },
  {
   "cell_type": "code",
   "execution_count": null,
   "metadata": {
    "collapsed": true
   },
   "outputs": [],
   "source": []
  }
 ],
 "metadata": {
  "kernelspec": {
   "display_name": "Python 2",
   "language": "python",
   "name": "python2"
  },
  "language_info": {
   "codemirror_mode": {
    "name": "ipython",
    "version": 2
   },
   "file_extension": ".py",
   "mimetype": "text/x-python",
   "name": "python",
   "nbconvert_exporter": "python",
   "pygments_lexer": "ipython2",
   "version": "2.7.13"
  }
 },
 "nbformat": 4,
 "nbformat_minor": 2
}
