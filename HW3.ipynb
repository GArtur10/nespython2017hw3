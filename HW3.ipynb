{
 "cells": [
  {
   "cell_type": "markdown",
   "metadata": {},
   "source": [
    "# HW3"
   ]
  },
  {
   "cell_type": "markdown",
   "metadata": {},
   "source": [
    "# Задача 1"
   ]
  },
  {
   "cell_type": "code",
   "execution_count": 1,
   "metadata": {
    "collapsed": true
   },
   "outputs": [],
   "source": [
    "import numpy as np"
   ]
  },
  {
   "cell_type": "code",
   "execution_count": 2,
   "metadata": {
    "collapsed": true
   },
   "outputs": [],
   "source": [
    "import math"
   ]
  },
  {
   "cell_type": "markdown",
   "metadata": {},
   "source": [
    "Напишем класс"
   ]
  },
  {
   "cell_type": "code",
   "execution_count": 3,
   "metadata": {
    "collapsed": true
   },
   "outputs": [],
   "source": [
    "class OLS():\n",
    "    def __init__ (self, y, X):\n",
    "        self.y = y\n",
    "        self.X = X\n",
    "        \n",
    "        self.beta  = (( np.linalg.inv  ((self.X.T).dot (self.X))).dot(self.X.T)).dot(self.y)\n",
    "        self.n = X.shape[0]\n",
    "        self.k = X.shape[1]\n",
    "        self.sigma =( 1 /(self.n - self.k )) *  ((self.y - self.X.dot( self.beta)).T).dot( self.y - self.X.dot( self.beta))\n",
    "        self.V_beta = self.sigma*np.linalg.inv(((self.X).T).dot( self.X) ) \n",
    "        \n",
    "    def predict( self, X_for_predict ):\n",
    "        self.y_predicted = (X_for_predict.T).dot( self.beta)\n",
    "        self.V_beta_predicted = self.sigma * (\n",
    "                            1 + (X_for_predict.T).dot (np.linalg.inv( (self.X.T).dot(self.X)) ).dot(X_for_predict) )\n",
    "        return ( self.y_predicted, self.V_beta_predicted)"
   ]
  },
  {
   "cell_type": "code",
   "execution_count": 4,
   "metadata": {
    "collapsed": true
   },
   "outputs": [],
   "source": [
    "import matplotlib.pyplot as plt\n",
    "%matplotlib inline"
   ]
  },
  {
   "cell_type": "markdown",
   "metadata": {},
   "source": [
    "Проверим как работает наш класс"
   ]
  },
  {
   "cell_type": "code",
   "execution_count": 5,
   "metadata": {
    "collapsed": true
   },
   "outputs": [],
   "source": [
    "X = np.random.randn(100,3)\n",
    "y = X.dot(np.array([1,2,3]))+np.random.randn(100)"
   ]
  },
  {
   "cell_type": "code",
   "execution_count": 6,
   "metadata": {},
   "outputs": [
    {
     "data": {
      "text/plain": [
       "(100, 3)"
      ]
     },
     "execution_count": 6,
     "metadata": {},
     "output_type": "execute_result"
    }
   ],
   "source": [
    "X.shape"
   ]
  },
  {
   "cell_type": "code",
   "execution_count": 7,
   "metadata": {},
   "outputs": [
    {
     "data": {
      "text/plain": [
       "(100,)"
      ]
     },
     "execution_count": 7,
     "metadata": {},
     "output_type": "execute_result"
    }
   ],
   "source": [
    "y.shape"
   ]
  },
  {
   "cell_type": "code",
   "execution_count": 8,
   "metadata": {
    "scrolled": true
   },
   "outputs": [
    {
     "data": {
      "text/plain": [
       "array([[  1.12614199e-01,  -9.49997685e-01,   1.00413557e+00],\n",
       "       [  2.49691773e-01,  -2.24311094e-01,   5.55395406e-02],\n",
       "       [  5.32819258e-02,   3.41580408e-01,  -4.12688021e-01],\n",
       "       [ -7.35517875e-02,   6.23760970e-01,   1.29939714e+00],\n",
       "       [ -1.19790074e+00,   1.07858166e+00,   8.72707010e-01],\n",
       "       [ -1.23546829e+00,  -3.06999382e-01,   6.43136416e-02],\n",
       "       [ -2.87135877e-01,  -1.11798485e+00,  -4.45997285e-02],\n",
       "       [ -1.97479897e+00,  -2.53218300e+00,   1.83176633e+00],\n",
       "       [ -8.88457380e-01,   6.01907706e-01,  -4.44004715e-01],\n",
       "       [ -9.70950006e-02,   1.75933635e+00,  -1.33563413e+00],\n",
       "       [ -7.61646865e-02,  -2.03549347e+00,   3.61513562e-01],\n",
       "       [ -3.13346624e+00,   2.80975696e-01,  -2.97418489e-01],\n",
       "       [  1.06857168e+00,   6.85646242e-01,  -5.60998702e-01],\n",
       "       [ -3.08997022e-01,   2.76045577e-01,   6.40348848e-01],\n",
       "       [  9.47876580e-01,   3.02823739e+00,   6.03752835e-01],\n",
       "       [ -1.13370407e+00,  -1.12849343e+00,   1.03279093e+00],\n",
       "       [  7.01282891e-01,   2.08336909e-01,  -6.44228360e-01],\n",
       "       [ -4.76263417e-01,   5.14165410e-01,  -2.06056926e+00],\n",
       "       [ -3.91660513e-02,   2.79239407e-01,  -1.76901405e+00],\n",
       "       [ -4.54952711e-01,  -7.11035438e-01,  -5.73250755e-01],\n",
       "       [ -3.38165370e-01,  -9.23350917e-02,  -1.32538672e-01],\n",
       "       [ -8.58940415e-01,   3.44830715e-01,  -1.28112559e+00],\n",
       "       [  2.16751637e+00,   4.96878857e-01,   1.80012095e+00],\n",
       "       [  3.38616249e-01,   5.29545740e-01,   5.66269446e-01],\n",
       "       [  1.34016668e-01,  -5.69082580e-01,   2.42699948e-01],\n",
       "       [ -9.09834783e-01,   6.91701631e-01,  -1.27270933e+00],\n",
       "       [  5.49212242e-02,   9.34113942e-01,  -7.21493894e-01],\n",
       "       [  1.84200669e+00,   5.11184558e-02,   8.05171638e-01],\n",
       "       [  8.71302418e-01,  -9.39931524e-01,  -3.90536538e-01],\n",
       "       [ -7.04681679e-01,   7.28161352e-01,   1.31138555e-03],\n",
       "       [ -1.43638084e-02,  -1.47959535e+00,  -1.39176398e+00],\n",
       "       [ -1.28427261e-01,  -1.06939429e+00,   4.19532206e-01],\n",
       "       [  2.80540607e-01,  -8.24144195e-02,   1.60067379e+00],\n",
       "       [  2.93455199e-01,   1.38366451e+00,  -1.02510151e+00],\n",
       "       [ -5.20686050e-01,   7.80587397e-01,  -1.27718755e+00],\n",
       "       [ -7.56977950e-01,  -1.74192035e+00,   5.17353014e-02],\n",
       "       [ -6.76506380e-02,   1.74149748e+00,   3.21356317e-02],\n",
       "       [ -9.96679922e-01,   1.44096034e-02,  -2.96454050e-02],\n",
       "       [ -1.81808837e+00,  -8.61658864e-01,  -3.19803089e-02],\n",
       "       [  3.05647711e-02,  -5.31443751e-01,  -1.70101075e+00],\n",
       "       [ -2.13214376e+00,  -1.36366781e-01,  -1.43813713e+00],\n",
       "       [  6.42711205e-01,  -8.23523972e-01,   1.60800456e+00],\n",
       "       [ -1.14300257e+00,   2.28695831e+00,  -5.47596360e-01],\n",
       "       [ -8.26611826e-01,  -4.66963015e-01,  -1.89613352e-01],\n",
       "       [  3.09577274e-01,  -4.48043967e-01,  -1.65109961e-01],\n",
       "       [ -2.64832143e-01,   6.61384348e-01,   4.31020658e-02],\n",
       "       [  2.72844495e-01,   1.17773707e+00,   1.10080580e+00],\n",
       "       [ -1.75967987e-01,   1.39115809e-01,  -1.49422477e-01],\n",
       "       [  5.80112837e-02,   1.41161688e+00,   3.85302958e-01],\n",
       "       [  1.85715836e+00,  -2.10284273e+00,   6.55358044e-01],\n",
       "       [ -2.08729024e+00,  -2.27172285e-01,   1.07029039e-01],\n",
       "       [ -2.34248588e-02,  -9.80329672e-01,   7.73561883e-01],\n",
       "       [ -3.66888648e-01,  -7.11271934e-01,  -9.18408106e-02],\n",
       "       [ -5.93542819e-02,   3.88426136e-01,   1.39372571e+00],\n",
       "       [ -3.47166866e-01,  -1.45262358e+00,  -5.88799848e-01],\n",
       "       [ -4.40446579e-01,   3.78252075e-01,   7.55089856e-01],\n",
       "       [  1.01728642e+00,   1.45141566e+00,  -1.97460675e-01],\n",
       "       [  1.24826346e-01,  -3.71064770e-01,   3.61709270e-01],\n",
       "       [  1.57581020e+00,  -1.70875054e+00,  -5.98457140e-02],\n",
       "       [ -5.65640071e-01,  -1.07321444e+00,   5.76817354e-01],\n",
       "       [ -3.93493132e-01,  -8.45416063e-01,   1.22134944e+00],\n",
       "       [ -2.05273342e+00,   1.21279622e+00,  -8.95836013e-01],\n",
       "       [ -1.42623725e+00,  -1.00326379e+00,  -1.93298823e+00],\n",
       "       [  6.23582089e-01,   3.44788073e-01,  -4.14669737e-01],\n",
       "       [  3.29700993e-01,  -6.40894397e-02,  -3.22937329e-01],\n",
       "       [ -3.66821231e-01,   9.98877770e-01,   1.04833132e-01],\n",
       "       [ -1.34452276e+00,  -5.80448500e-01,  -1.08941504e+00],\n",
       "       [  7.48398969e-01,  -1.21663664e-01,  -5.22248376e-01],\n",
       "       [  1.57366317e+00,  -1.28495154e+00,   1.91187761e+00],\n",
       "       [  8.85350849e-01,   1.87861793e-01,  -1.20373754e+00],\n",
       "       [ -9.57342933e-01,   9.97998140e-01,  -4.88518505e-01],\n",
       "       [  1.87837474e+00,  -8.80491234e-01,   8.53199323e-01],\n",
       "       [  3.10266551e-01,   8.98756370e-02,   1.02110070e+00],\n",
       "       [  1.41921793e+00,   4.27118959e-01,  -3.77673177e-01],\n",
       "       [ -1.35909485e+00,   1.19060451e+00,   9.98864442e-01],\n",
       "       [  1.28400327e-01,   4.76468499e-01,   2.26512088e+00],\n",
       "       [  9.10882160e-01,   1.98766446e-03,  -2.43182276e-01],\n",
       "       [  5.51871443e-01,  -8.47404460e-01,  -6.08137625e-01],\n",
       "       [ -8.57173213e-02,   8.96086687e-01,   1.24081307e+00],\n",
       "       [ -4.96353064e-01,  -9.64318456e-01,  -4.64644113e-01],\n",
       "       [  1.35134827e+00,   1.16610912e-01,   1.60576113e+00],\n",
       "       [ -2.25254131e-01,  -3.24538543e-02,   9.38292779e-01],\n",
       "       [ -8.35802753e-02,   1.03146010e+00,   2.53737744e-01],\n",
       "       [ -1.05634404e-01,   1.31834357e+00,  -7.05267366e-01],\n",
       "       [ -7.51450104e-01,   3.25687036e-01,  -3.56892583e-02],\n",
       "       [  1.20203585e+00,  -2.76776213e+00,  -1.99825007e+00],\n",
       "       [  6.58135365e-01,   1.65015730e+00,  -9.90530260e-01],\n",
       "       [ -1.19507920e+00,  -1.33382985e+00,  -9.07018337e-02],\n",
       "       [  1.67913802e-01,   1.06873765e-01,   2.30207778e-01],\n",
       "       [  8.42139149e-01,  -1.62137379e+00,   3.81323783e-01],\n",
       "       [ -3.25146038e-01,  -2.91313952e-01,  -6.77611996e-04],\n",
       "       [ -1.36451169e+00,  -1.25411015e+00,   1.57786299e+00],\n",
       "       [  1.23991132e+00,   8.73803735e-01,   3.00682730e-01],\n",
       "       [ -1.47152480e-01,   9.85827239e-01,   3.14373878e-01],\n",
       "       [  4.92523373e-01,   1.93489300e+00,  -7.89000759e-01],\n",
       "       [  1.34757005e+00,   1.03687870e+00,  -1.28988238e+00],\n",
       "       [  6.87243177e-01,  -1.14008524e+00,  -2.74633397e-01],\n",
       "       [ -1.15707567e+00,   4.44581568e-01,  -1.75615187e+00],\n",
       "       [  2.37279946e+00,   1.75563386e+00,  -1.03239415e+00],\n",
       "       [  3.92406505e-02,  -5.96363563e-01,  -4.87789348e-01]])"
      ]
     },
     "execution_count": 8,
     "metadata": {},
     "output_type": "execute_result"
    }
   ],
   "source": [
    "X"
   ]
  },
  {
   "cell_type": "code",
   "execution_count": 9,
   "metadata": {
    "collapsed": true
   },
   "outputs": [],
   "source": [
    "model = OLS(y, X)"
   ]
  },
  {
   "cell_type": "code",
   "execution_count": 10,
   "metadata": {},
   "outputs": [
    {
     "data": {
      "text/plain": [
       "array([ 1.06759096,  2.12464756,  2.92530269])"
      ]
     },
     "execution_count": 10,
     "metadata": {},
     "output_type": "execute_result"
    }
   ],
   "source": [
    "model.beta"
   ]
  },
  {
   "cell_type": "code",
   "execution_count": 11,
   "metadata": {},
   "outputs": [
    {
     "data": {
      "text/plain": [
       "3"
      ]
     },
     "execution_count": 11,
     "metadata": {},
     "output_type": "execute_result"
    }
   ],
   "source": [
    "model.k"
   ]
  },
  {
   "cell_type": "code",
   "execution_count": 12,
   "metadata": {},
   "outputs": [
    {
     "data": {
      "text/plain": [
       "(100, 3)"
      ]
     },
     "execution_count": 12,
     "metadata": {},
     "output_type": "execute_result"
    }
   ],
   "source": [
    "X.shape"
   ]
  },
  {
   "cell_type": "code",
   "execution_count": 13,
   "metadata": {},
   "outputs": [
    {
     "data": {
      "text/plain": [
       "0.95461178544715419"
      ]
     },
     "execution_count": 13,
     "metadata": {},
     "output_type": "execute_result"
    }
   ],
   "source": [
    "model.sigma"
   ]
  },
  {
   "cell_type": "code",
   "execution_count": 14,
   "metadata": {},
   "outputs": [
    {
     "data": {
      "text/plain": [
       "array([[ 0.00973951, -0.00047905, -0.00133776],\n",
       "       [-0.00047905,  0.00847904,  0.00127836],\n",
       "       [-0.00133776,  0.00127836,  0.01087827]])"
      ]
     },
     "execution_count": 14,
     "metadata": {},
     "output_type": "execute_result"
    }
   ],
   "source": [
    "model.V_beta"
   ]
  },
  {
   "cell_type": "code",
   "execution_count": 15,
   "metadata": {},
   "outputs": [
    {
     "data": {
      "text/plain": [
       "(3.9928936494650671, 0.9725540507587086)"
      ]
     },
     "execution_count": 15,
     "metadata": {},
     "output_type": "execute_result"
    }
   ],
   "source": [
    "model.predict( np.array([1,0,1])  )"
   ]
  },
  {
   "cell_type": "markdown",
   "metadata": {},
   "source": [
    "# Задача 2"
   ]
  },
  {
   "cell_type": "markdown",
   "metadata": {
    "collapsed": true
   },
   "source": [
    "Сгенерируем данные для задачи"
   ]
  },
  {
   "cell_type": "code",
   "execution_count": 16,
   "metadata": {
    "collapsed": true
   },
   "outputs": [],
   "source": [
    "def generate_y (x ):\n",
    "    s = 0\n",
    "    for k in range (11):\n",
    "        s += beta_array[k]* np.power(x , k)/(math.factorial(k)) + u_array[k]\n",
    "    return(s )"
   ]
  },
  {
   "cell_type": "code",
   "execution_count": 17,
   "metadata": {},
   "outputs": [
    {
     "data": {
      "image/png": "[encoded data removed]",
      "text/plain": [
       "<matplotlib.figure.Figure at 0x7f7927ee69b0>"
      ]
     },
     "metadata": {},
     "output_type": "display_data"
    }
   ],
   "source": [
    "def generate_data ():\n",
    "    beta_array = np.random.rand( 11,)\n",
    "    x_array = np.random.uniform( low=-5, high=5, size=200)\n",
    "    u_array = np.random.normal(0, 10, 200)\n",
    "    \n",
    "    def generate_y (x ):\n",
    "        s = 0\n",
    "        for k in range (11):\n",
    "            s += beta_array[k]* np.power(x , k)/(math.factorial(k)) \n",
    "        return(s )\n",
    "    generate_y_vect = np.vectorize ( generate_y)\n",
    "    y_array = generate_y_vect ( x_array  ) + u_array\n",
    "    return ( beta_array, x_array , u_array, y_array)\n",
    "\n",
    "\n",
    "beta , x, u , y= generate_data()\n",
    "\n",
    "\n",
    "plt.figure( figsize = (8,8))\n",
    "plt.scatter( x,y)\n",
    "plt.xlabel('Xi')\n",
    "plt.ylabel('Yi')\n",
    "plt.show()"
   ]
  },
  {
   "cell_type": "code",
   "execution_count": 18,
   "metadata": {
    "collapsed": true
   },
   "outputs": [],
   "source": [
    "def create_X_sample( x_arr , K):\n",
    "    X_sample  = x_arr*0+1\n",
    "    for k in range( 1, (K+1)):\n",
    "        X_sample = np.vstack ( ( X_sample,    np.power(x_arr, k)  ) )\n",
    "    return(X_sample.T)"
   ]
  },
  {
   "cell_type": "code",
   "execution_count": 19,
   "metadata": {
    "collapsed": true
   },
   "outputs": [],
   "source": [
    "def make_predict_and_line ( y ,x , k  ):\n",
    "    X = create_X_sample(x,k)\n",
    "    model2 = OLS( y,X)\n",
    "    x_sample = np.arange(-5,5,1/200)\n",
    "    X = create_X_sample(x_sample , k)\n",
    "    \n",
    "    y_sample = np.apply_along_axis(model2.predict , 1, X  )[:,0]\n",
    "    y_sample_sigm = np.apply_along_axis(model2.predict , 1, X  )[:,1]\n",
    "    return( x_sample ,y_sample, y_sample_sigm)\n",
    "    \n"
   ]
  },
  {
   "cell_type": "markdown",
   "metadata": {},
   "source": [
    "Далее с помощью класса OLS из задачи 1 для 𝐾 = 1, …, 4 оценим модель"
   ]
  },
  {
   "cell_type": "code",
   "execution_count": 20,
   "metadata": {},
   "outputs": [
    {
     "data": {
      "image/png": "[encoded data removed]",
      "text/plain": [
       "<matplotlib.figure.Figure at 0x7f7927f0bbe0>"
      ]
     },
     "metadata": {},
     "output_type": "display_data"
    }
   ],
   "source": [
    "plt.figure( figsize = (8,8))\n",
    "plt.scatter( x,y)\n",
    "for k in range(1, 5):\n",
    "    x_line , y_line, y_line_sigm = make_predict_and_line ( y ,x  , k )\n",
    "    plt.plot(  x_line , y_line, label  = str( 'K = '  + str(k)))\n",
    "plt.legend()\n",
    "plt.xlabel('Xi')\n",
    "plt.ylabel('Yi')\n",
    "plt.show()"
   ]
  },
  {
   "cell_type": "markdown",
   "metadata": {},
   "source": [
    "Для последней регрессии при 𝐾 = 4 нарисуйте диаграмму, на которой будет\n",
    "изображено облако точек, линия регрессии и 90%-ный доверительный интервал для прогнозных значений "
   ]
  },
  {
   "cell_type": "code",
   "execution_count": 21,
   "metadata": {
    "collapsed": true
   },
   "outputs": [],
   "source": [
    "import scipy \n",
    "from  scipy import stats"
   ]
  },
  {
   "cell_type": "code",
   "execution_count": 22,
   "metadata": {},
   "outputs": [
    {
     "data": {
      "image/png": "[encoded data removed]",
      "text/plain": [
       "<matplotlib.figure.Figure at 0x7f79200a6550>"
      ]
     },
     "metadata": {},
     "output_type": "display_data"
    }
   ],
   "source": [
    "plt.figure( figsize = (8,8))\n",
    "plt.scatter( x,y)\n",
    "\n",
    "x_line , y_line , y_line_sigm = make_predict_and_line ( y ,x  , 4 )\n",
    "plt.plot(  x_line , y_line, label  = str( 'K = '  + str(k)) , c = 'red')\n",
    "t = scipy.stats.t.ppf( 0.95  , 100)\n",
    "plt.fill_between(x_line,( y_line+ t*np.sqrt(y_line_sigm)) ,\n",
    "                 (y_line- t*np.sqrt(y_line_sigm)),\n",
    "                 alpha = 0.3,\n",
    "                 facecolor='grey' )\n",
    "\n",
    "\n",
    "plt.legend()\n",
    "plt.xlabel('Xi')\n",
    "plt.ylabel('Yi')\n",
    "plt.show()"
   ]
  },
  {
   "cell_type": "markdown",
   "metadata": {},
   "source": [
    "# Задача 3"
   ]
  },
  {
   "cell_type": "raw",
   "metadata": {},
   "source": [
    "Сгенерируйте матрицу 𝐴 размера 100×100 случайных величин, подчиняющихся\n",
    "стандартному нормальному распределению. Для каждого столбца сосчитайте 90%-ный\n",
    "доверительный интервал для математического ожидания и выведите на печать"
   ]
  },
  {
   "cell_type": "code",
   "execution_count": 23,
   "metadata": {},
   "outputs": [],
   "source": [
    "A = np.random.standard_normal((100,100) )"
   ]
  },
  {
   "cell_type": "code",
   "execution_count": 24,
   "metadata": {
    "collapsed": true
   },
   "outputs": [],
   "source": [
    "t = scipy.stats.t.ppf( 0.9  , 100) # квантиль распределения"
   ]
  },
  {
   "cell_type": "code",
   "execution_count": 25,
   "metadata": {
    "collapsed": true
   },
   "outputs": [],
   "source": [
    "a_std = A.std(axis = 0)*t / np.sqrt(100)"
   ]
  },
  {
   "cell_type": "code",
   "execution_count": 26,
   "metadata": {
    "collapsed": true
   },
   "outputs": [],
   "source": [
    "a_mean =  A.mean(axis = 0)"
   ]
  },
  {
   "cell_type": "code",
   "execution_count": 27,
   "metadata": {
    "collapsed": true
   },
   "outputs": [],
   "source": [
    "a_up = a_mean + a_std\n",
    "a_low = a_mean - a_std"
   ]
  },
  {
   "cell_type": "code",
   "execution_count": 28,
   "metadata": {
    "scrolled": true
   },
   "outputs": [
    {
     "name": "stdout",
     "output_type": "stream",
     "text": [
      "-0.0835405374654 0.141071272354\n",
      "-0.134791260756 0.0986094561685\n",
      "-0.0510353955885 0.203476236132\n",
      "-0.0932270388137 0.169767741606\n",
      "-0.0933765127017 0.153448476623\n",
      "0.0504498986554 0.319601483588\n",
      "-0.0211999983706 0.222653691426\n",
      "-0.171393754226 0.0666529574578\n",
      "0.0323812177923 0.319816037013\n",
      "0.0230951097997 0.301901344666\n",
      "-0.12657429036 0.13156742315\n",
      "-0.170606025612 0.0912864629817\n",
      "-0.24164448557 -0.00965677310063\n",
      "-0.10384815751 0.190730736464\n",
      "-0.205024817707 0.0668921514275\n",
      "-0.054653890652 0.223207422866\n",
      "-0.046581501525 0.236634295897\n",
      "-0.0878233088933 0.14611985342\n",
      "-0.108695766578 0.1559470502\n",
      "0.0145950573683 0.266900223495\n",
      "-0.0118614442655 0.266113825056\n",
      "-0.0420976102724 0.222371419684\n",
      "-0.223758786679 0.056572779981\n",
      "-0.393402444512 -0.142230044653\n",
      "-0.0448674241249 0.160377812111\n",
      "-0.108482457442 0.164099938007\n",
      "-0.243135466222 0.0150222193212\n",
      "-0.115616502166 0.146353423009\n",
      "-0.188854091429 0.0557054199373\n",
      "-0.0659327366771 0.200341787579\n",
      "-0.257022959094 -0.0124814065963\n",
      "-0.235929638774 0.0186994257575\n",
      "0.0164228130992 0.267957997497\n",
      "-0.149137561963 0.107167209485\n",
      "-0.157425120856 0.119199857937\n",
      "-0.115169415795 0.161182174208\n",
      "-0.0368826669221 0.221067992289\n",
      "-0.155441959603 0.0937703122336\n",
      "-0.130421775699 0.128671881502\n",
      "0.110225411694 0.36242432315\n",
      "-0.238508399539 0.00625593188244\n",
      "0.0332587513542 0.300540532688\n",
      "-0.160178553687 0.10434841139\n",
      "-0.201962075851 0.0633698776734\n",
      "-0.0589270013632 0.217650460248\n",
      "-0.200583269302 0.0550442618898\n",
      "-0.0915040571241 0.158763325226\n",
      "-0.100290772723 0.1518668867\n",
      "-0.19592066059 0.0445752794105\n",
      "-0.0184263971853 0.241878252832\n",
      "-0.192433260754 0.0716162690751\n",
      "0.0530209652957 0.315347071687\n",
      "-0.106950092649 0.140719067836\n",
      "0.0126201149765 0.267970201696\n",
      "-0.0902349527349 0.171282056066\n",
      "-0.108344386039 0.162283416105\n",
      "-0.104215390829 0.129073825244\n",
      "-0.22945975885 0.0422745456376\n",
      "-0.323218927816 -0.0884955852058\n",
      "-0.0671025687467 0.166807314138\n",
      "-0.138972488153 0.118651156012\n",
      "-0.0497569716238 0.249526661311\n",
      "-0.125313415604 0.116278619049\n",
      "0.0579514631651 0.289770851489\n",
      "-0.138565538201 0.126826916852\n",
      "-0.00751490096096 0.233447835482\n",
      "-0.175233336415 0.0408083137049\n",
      "-0.104418236177 0.150843818405\n",
      "-0.191154593268 0.0624705498064\n",
      "-0.200773133029 0.0602732428688\n",
      "-0.140684446573 0.112122631789\n",
      "-0.141712487467 0.0973871619687\n",
      "-0.0613009751342 0.190538377629\n",
      "0.0243036998536 0.276874324755\n",
      "-0.0666360520902 0.208679565869\n",
      "-0.117956819943 0.136098980454\n",
      "-0.0661477644914 0.187876861241\n",
      "-0.0480181224057 0.176565625669\n",
      "-0.170728347599 0.0845097685368\n",
      "-0.286316549115 -9.92460888091e-06\n",
      "-0.15417886634 0.0669629909461\n",
      "0.00184510499013 0.240843019966\n",
      "-0.306398320034 -0.0727006694916\n",
      "-0.173703704044 0.0605270046965\n",
      "-0.177382438204 0.0970013903264\n",
      "-0.111429221268 0.135075497935\n",
      "-0.131331462498 0.135794863396\n",
      "-0.0817622390127 0.157681465474\n",
      "-0.194910852384 0.0958502739703\n",
      "-0.231507619236 0.0318706085278\n",
      "-0.21796936218 0.0651232563785\n",
      "-0.110361224618 0.147603327503\n",
      "-0.079251150002 0.171462788312\n",
      "-0.0166937023314 0.231868642994\n",
      "-0.0593439702549 0.179792919358\n",
      "-0.182821267435 0.073166025707\n",
      "0.00393289314797 0.288088197547\n",
      "0.0446522038731 0.306575097789\n",
      "-0.153270918281 0.113526847523\n",
      "-0.0203070116393 0.233970365284\n"
     ]
    }
   ],
   "source": [
    "for i in range( 100):\n",
    "    print ( a_low[i] , a_up[i]  )"
   ]
  },
  {
   "cell_type": "code",
   "execution_count": 29,
   "metadata": {
    "collapsed": true
   },
   "outputs": [],
   "source": [
    "array = [True]*100\n",
    "for i in range( 100):\n",
    "    if ( ( 0< a_low[i]) or    (0 >a_up[i])  ):\n",
    "        array[i] =False"
   ]
  },
  {
   "cell_type": "code",
   "execution_count": 30,
   "metadata": {},
   "outputs": [
    {
     "data": {
      "text/plain": [
       "80"
      ]
     },
     "execution_count": 30,
     "metadata": {},
     "output_type": "execute_result"
    }
   ],
   "source": [
    "sum(array)"
   ]
  },
  {
   "cell_type": "markdown",
   "metadata": {},
   "source": [
    "Сделаем аналогично для строки"
   ]
  },
  {
   "cell_type": "code",
   "execution_count": 31,
   "metadata": {
    "scrolled": true
   },
   "outputs": [
    {
     "name": "stdout",
     "output_type": "stream",
     "text": [
      "-0.186935892402 0.0808144947041\n",
      "-0.0993632434161 0.147645238278\n",
      "-0.127973356261 0.129709814814\n",
      "0.0197181043349 0.277155121464\n",
      "-0.287947830832 -0.034537152862\n",
      "-0.0596262612238 0.190208124266\n",
      "-0.219993101026 0.029458236407\n",
      "-0.208549611137 0.0315548506345\n",
      "0.0746045842764 0.310104181658\n",
      "-0.230955708903 0.0393741837979\n",
      "0.0602767182956 0.301902337658\n",
      "-0.141439461915 0.115784746754\n",
      "-0.11612534462 0.130900498053\n",
      "0.0865773648994 0.36265766474\n",
      "-0.148574826604 0.14334139701\n",
      "-0.163946204959 0.0941607018399\n",
      "-0.34877147318 -0.0838923222309\n",
      "-0.210594878207 0.0101181707525\n",
      "-0.143494929058 0.140242633305\n",
      "-0.124350848742 0.154297814843\n",
      "-0.0491272786383 0.192374047479\n",
      "-0.0502239773447 0.1592240905\n",
      "0.0608671799505 0.320916697213\n",
      "-0.147685180216 0.0939813091421\n",
      "-0.203263907613 0.0512698757331\n",
      "-0.120816277632 0.152702406872\n",
      "-0.18194376267 0.0782205173848\n",
      "-0.155441760391 0.0742699316862\n",
      "-0.103012956667 0.180498050622\n",
      "-0.16443363383 0.0671289220163\n",
      "-0.213004083861 0.0473400829268\n",
      "-0.305939571347 -0.00319006828499\n",
      "-0.127397474902 0.136849190033\n",
      "-0.0264292664356 0.230005425754\n",
      "0.0262535919746 0.299127439286\n",
      "-0.332121794251 -0.0855941532642\n",
      "-0.0910817054992 0.176867286063\n",
      "-0.0934622954077 0.160022652386\n",
      "-0.0605314922937 0.209637915235\n",
      "-0.00417458854907 0.254108422857\n",
      "-0.179821846621 0.0835270233861\n",
      "0.0149076521071 0.251330268105\n",
      "-0.00368482282424 0.239084874482\n",
      "-0.0714572036706 0.18351527443\n",
      "-0.0367253867422 0.214148819051\n",
      "-0.0492635057188 0.220267538934\n",
      "-0.128565842649 0.108404243283\n",
      "-0.235458663378 0.0188876981109\n",
      "-0.142788605007 0.119745443151\n",
      "-0.101124716274 0.176781467836\n",
      "-0.0397515406278 0.237506820192\n",
      "-0.104817243712 0.165053736512\n",
      "-0.00969720696584 0.237598953597\n",
      "-0.109532870602 0.132940692901\n",
      "-0.160725614078 0.0909226002168\n",
      "-0.150583481581 0.135599359822\n",
      "0.0450631996671 0.280483020466\n",
      "-0.033836705576 0.21125660051\n",
      "-0.0865384992294 0.213578922324\n",
      "-0.18854154011 0.0619861771864\n",
      "-0.19625407332 0.0372629545233\n",
      "-0.0454040888116 0.202190956885\n",
      "0.0333884570753 0.249981742222\n",
      "-0.0334697725365 0.218473374703\n",
      "-0.0449647414886 0.234972208925\n",
      "-0.105318462359 0.15990550643\n",
      "-0.0494053718121 0.232822037505\n",
      "-0.000427822907048 0.260898637961\n",
      "-0.0706796352224 0.167958503908\n",
      "-0.258894860937 -0.00674616847197\n",
      "-0.101717132481 0.161389910407\n",
      "-0.142338028738 0.100156934606\n",
      "-0.141457157068 0.128653948891\n",
      "0.0597053100173 0.330657481499\n",
      "-0.114904402191 0.144088071992\n",
      "0.0533976090738 0.285361260959\n",
      "-0.138765521811 0.13795374151\n",
      "-0.0824133616333 0.192415519652\n",
      "-0.259607884648 0.00688915525784\n",
      "-0.143863267689 0.098122103657\n",
      "-0.0330839391255 0.215483252098\n",
      "-0.109260262398 0.128904603635\n",
      "-0.0103909322002 0.246437325006\n",
      "-0.232017225571 0.00737989218117\n",
      "-0.22749614289 0.0353387872443\n",
      "-0.228423123226 0.00629294963205\n",
      "-0.098427033457 0.166719723334\n",
      "-0.160279164033 0.109901953325\n",
      "-0.0836864827879 0.162785763583\n",
      "-0.192546094377 0.0747377718965\n",
      "-0.105928265055 0.144142340329\n",
      "-0.214510021003 0.0256791695426\n",
      "-0.165690919431 0.079511655438\n",
      "-0.19039827641 0.0727615130415\n",
      "-0.160487196672 0.0920776288627\n",
      "0.0145681558951 0.252124750417\n",
      "-0.169425018571 0.109958328655\n",
      "0.0105758919917 0.273691721772\n",
      "-0.262586996078 -0.00782734221189\n",
      "-0.016684779894 0.22308534426\n"
     ]
    }
   ],
   "source": [
    "b_std = A.std(axis = 1)*t / np.sqrt(100)\n",
    "b_mean =  A.mean(axis = 1)\n",
    "b_up = b_mean + b_std\n",
    "b_low = b_mean - b_std\n",
    "\n",
    "for i in range( 100):\n",
    "    print ( b_low[i] , b_up[i]  )"
   ]
  },
  {
   "cell_type": "code",
   "execution_count": 32,
   "metadata": {
    "collapsed": true
   },
   "outputs": [],
   "source": [
    "b_array = [True]*100\n",
    "for i in range( 100):\n",
    "    if ( ( 0< b_low[i]) or    (0 >b_up[i])  ):\n",
    "        b_array[i] =False"
   ]
  },
  {
   "cell_type": "code",
   "execution_count": 33,
   "metadata": {},
   "outputs": [
    {
     "data": {
      "text/plain": [
       "81"
      ]
     },
     "execution_count": 33,
     "metadata": {},
     "output_type": "execute_result"
    }
   ],
   "source": [
    "sum(b_array)"
   ]
  },
  {
   "cell_type": "markdown",
   "metadata": {},
   "source": [
    "Генератор не всегда генерит нормально распределенные числа, так как меньше 90% чисел попадают в доверительный интервал "
   ]
  },
  {
   "cell_type": "markdown",
   "metadata": {},
   "source": [
    "# Задача 4"
   ]
  },
  {
   "cell_type": "code",
   "execution_count": 34,
   "metadata": {
    "collapsed": true
   },
   "outputs": [],
   "source": [
    "import pandas as pd"
   ]
  },
  {
   "cell_type": "code",
   "execution_count": 35,
   "metadata": {},
   "outputs": [
    {
     "data": {
      "text/html": [
       "<div>\n",
       "<style scoped>\n",
       "    .dataframe tbody tr th:only-of-type {\n",
       "        vertical-align: middle;\n",
       "    }\n",
       "\n",
       "    .dataframe tbody tr th {\n",
       "        vertical-align: top;\n",
       "    }\n",
       "\n",
       "    .dataframe thead th {\n",
       "        text-align: right;\n",
       "    }\n",
       "</style>\n",
       "<table border=\"1\" class=\"dataframe\">\n",
       "  <thead>\n",
       "    <tr style=\"text-align: right;\">\n",
       "      <th></th>\n",
       "      <th>n</th>\n",
       "      <th>player</th>\n",
       "      <th>season</th>\n",
       "      <th>team</th>\n",
       "      <th>position</th>\n",
       "      <th>games_played</th>\n",
       "      <th>games_started</th>\n",
       "      <th>wins</th>\n",
       "      <th>losses</th>\n",
       "      <th>overtime_losses</th>\n",
       "      <th>...</th>\n",
       "      <th>saves</th>\n",
       "      <th>goals_against</th>\n",
       "      <th>save_percentage</th>\n",
       "      <th>goal_against_average</th>\n",
       "      <th>time_on_ice</th>\n",
       "      <th>shutouts</th>\n",
       "      <th>goals</th>\n",
       "      <th>assists</th>\n",
       "      <th>points</th>\n",
       "      <th>penalty_minutes</th>\n",
       "    </tr>\n",
       "  </thead>\n",
       "  <tbody>\n",
       "    <tr>\n",
       "      <th>0</th>\n",
       "      <td>1</td>\n",
       "      <td>Cam Talbot</td>\n",
       "      <td>2016-17</td>\n",
       "      <td>EDM</td>\n",
       "      <td>G</td>\n",
       "      <td>73</td>\n",
       "      <td>73</td>\n",
       "      <td>42</td>\n",
       "      <td>22</td>\n",
       "      <td>8</td>\n",
       "      <td>...</td>\n",
       "      <td>1946</td>\n",
       "      <td>171</td>\n",
       "      <td>0.919</td>\n",
       "      <td>2.39</td>\n",
       "      <td>4294:00</td>\n",
       "      <td>7</td>\n",
       "      <td>0</td>\n",
       "      <td>0</td>\n",
       "      <td>0</td>\n",
       "      <td>4</td>\n",
       "    </tr>\n",
       "    <tr>\n",
       "      <th>1</th>\n",
       "      <td>2</td>\n",
       "      <td>Braden Holtby</td>\n",
       "      <td>2016-17</td>\n",
       "      <td>WSH</td>\n",
       "      <td>G</td>\n",
       "      <td>63</td>\n",
       "      <td>63</td>\n",
       "      <td>42</td>\n",
       "      <td>13</td>\n",
       "      <td>6</td>\n",
       "      <td>...</td>\n",
       "      <td>1563</td>\n",
       "      <td>127</td>\n",
       "      <td>0.925</td>\n",
       "      <td>2.07</td>\n",
       "      <td>3680:10</td>\n",
       "      <td>9</td>\n",
       "      <td>0</td>\n",
       "      <td>0</td>\n",
       "      <td>0</td>\n",
       "      <td>0</td>\n",
       "    </tr>\n",
       "    <tr>\n",
       "      <th>2</th>\n",
       "      <td>3</td>\n",
       "      <td>Sergei Bobrovsky</td>\n",
       "      <td>2016-17</td>\n",
       "      <td>CBJ</td>\n",
       "      <td>G</td>\n",
       "      <td>63</td>\n",
       "      <td>63</td>\n",
       "      <td>41</td>\n",
       "      <td>17</td>\n",
       "      <td>5</td>\n",
       "      <td>...</td>\n",
       "      <td>1727</td>\n",
       "      <td>127</td>\n",
       "      <td>0.931</td>\n",
       "      <td>2.06</td>\n",
       "      <td>3707:04</td>\n",
       "      <td>7</td>\n",
       "      <td>0</td>\n",
       "      <td>0</td>\n",
       "      <td>0</td>\n",
       "      <td>8</td>\n",
       "    </tr>\n",
       "    <tr>\n",
       "      <th>3</th>\n",
       "      <td>4</td>\n",
       "      <td>Devan Dubnyk</td>\n",
       "      <td>2016-17</td>\n",
       "      <td>MIN</td>\n",
       "      <td>G</td>\n",
       "      <td>65</td>\n",
       "      <td>63</td>\n",
       "      <td>40</td>\n",
       "      <td>19</td>\n",
       "      <td>5</td>\n",
       "      <td>...</td>\n",
       "      <td>1701</td>\n",
       "      <td>141</td>\n",
       "      <td>0.923</td>\n",
       "      <td>2.25</td>\n",
       "      <td>3758:00</td>\n",
       "      <td>5</td>\n",
       "      <td>0</td>\n",
       "      <td>0</td>\n",
       "      <td>0</td>\n",
       "      <td>10</td>\n",
       "    </tr>\n",
       "    <tr>\n",
       "      <th>4</th>\n",
       "      <td>5</td>\n",
       "      <td>Tuukka Rask</td>\n",
       "      <td>2016-17</td>\n",
       "      <td>BOS</td>\n",
       "      <td>G</td>\n",
       "      <td>65</td>\n",
       "      <td>64</td>\n",
       "      <td>37</td>\n",
       "      <td>20</td>\n",
       "      <td>5</td>\n",
       "      <td>...</td>\n",
       "      <td>1473</td>\n",
       "      <td>137</td>\n",
       "      <td>0.915</td>\n",
       "      <td>2.23</td>\n",
       "      <td>3679:30</td>\n",
       "      <td>8</td>\n",
       "      <td>0</td>\n",
       "      <td>2</td>\n",
       "      <td>2</td>\n",
       "      <td>0</td>\n",
       "    </tr>\n",
       "  </tbody>\n",
       "</table>\n",
       "<p>5 rows × 21 columns</p>\n",
       "</div>"
      ],
      "text/plain": [
       "   n            player   season team position  games_played  games_started  \\\n",
       "0  1        Cam Talbot  2016-17  EDM        G            73             73   \n",
       "1  2     Braden Holtby  2016-17  WSH        G            63             63   \n",
       "2  3  Sergei Bobrovsky  2016-17  CBJ        G            63             63   \n",
       "3  4      Devan Dubnyk  2016-17  MIN        G            65             63   \n",
       "4  5       Tuukka Rask  2016-17  BOS        G            65             64   \n",
       "\n",
       "   wins  losses  overtime_losses       ...         saves  goals_against  \\\n",
       "0    42      22                8       ...          1946            171   \n",
       "1    42      13                6       ...          1563            127   \n",
       "2    41      17                5       ...          1727            127   \n",
       "3    40      19                5       ...          1701            141   \n",
       "4    37      20                5       ...          1473            137   \n",
       "\n",
       "   save_percentage  goal_against_average time_on_ice shutouts  goals  assists  \\\n",
       "0            0.919                  2.39     4294:00        7      0        0   \n",
       "1            0.925                  2.07     3680:10        9      0        0   \n",
       "2            0.931                  2.06     3707:04        7      0        0   \n",
       "3            0.923                  2.25     3758:00        5      0        0   \n",
       "4            0.915                  2.23     3679:30        8      0        2   \n",
       "\n",
       "   points  penalty_minutes  \n",
       "0       0                4  \n",
       "1       0                0  \n",
       "2       0                8  \n",
       "3       0               10  \n",
       "4       2                0  \n",
       "\n",
       "[5 rows x 21 columns]"
      ]
     },
     "execution_count": 35,
     "metadata": {},
     "output_type": "execute_result"
    }
   ],
   "source": [
    "data = pd.read_csv('goalies-2014-2016.csv', sep = ';' )  # считаем данные\n",
    "data.head()"
   ]
  },
  {
   "cell_type": "markdown",
   "metadata": {},
   "source": [
    "Выведем первые 5 строк первых шести столбцов полученного набора данных."
   ]
  },
  {
   "cell_type": "code",
   "execution_count": 36,
   "metadata": {},
   "outputs": [
    {
     "data": {
      "text/html": [
       "<div>\n",
       "<style scoped>\n",
       "    .dataframe tbody tr th:only-of-type {\n",
       "        vertical-align: middle;\n",
       "    }\n",
       "\n",
       "    .dataframe tbody tr th {\n",
       "        vertical-align: top;\n",
       "    }\n",
       "\n",
       "    .dataframe thead th {\n",
       "        text-align: right;\n",
       "    }\n",
       "</style>\n",
       "<table border=\"1\" class=\"dataframe\">\n",
       "  <thead>\n",
       "    <tr style=\"text-align: right;\">\n",
       "      <th></th>\n",
       "      <th>n</th>\n",
       "      <th>player</th>\n",
       "      <th>season</th>\n",
       "      <th>team</th>\n",
       "      <th>position</th>\n",
       "      <th>games_played</th>\n",
       "    </tr>\n",
       "  </thead>\n",
       "  <tbody>\n",
       "    <tr>\n",
       "      <th>0</th>\n",
       "      <td>1</td>\n",
       "      <td>Cam Talbot</td>\n",
       "      <td>2016-17</td>\n",
       "      <td>EDM</td>\n",
       "      <td>G</td>\n",
       "      <td>73</td>\n",
       "    </tr>\n",
       "    <tr>\n",
       "      <th>1</th>\n",
       "      <td>2</td>\n",
       "      <td>Braden Holtby</td>\n",
       "      <td>2016-17</td>\n",
       "      <td>WSH</td>\n",
       "      <td>G</td>\n",
       "      <td>63</td>\n",
       "    </tr>\n",
       "    <tr>\n",
       "      <th>2</th>\n",
       "      <td>3</td>\n",
       "      <td>Sergei Bobrovsky</td>\n",
       "      <td>2016-17</td>\n",
       "      <td>CBJ</td>\n",
       "      <td>G</td>\n",
       "      <td>63</td>\n",
       "    </tr>\n",
       "    <tr>\n",
       "      <th>3</th>\n",
       "      <td>4</td>\n",
       "      <td>Devan Dubnyk</td>\n",
       "      <td>2016-17</td>\n",
       "      <td>MIN</td>\n",
       "      <td>G</td>\n",
       "      <td>65</td>\n",
       "    </tr>\n",
       "    <tr>\n",
       "      <th>4</th>\n",
       "      <td>5</td>\n",
       "      <td>Tuukka Rask</td>\n",
       "      <td>2016-17</td>\n",
       "      <td>BOS</td>\n",
       "      <td>G</td>\n",
       "      <td>65</td>\n",
       "    </tr>\n",
       "  </tbody>\n",
       "</table>\n",
       "</div>"
      ],
      "text/plain": [
       "   n            player   season team position  games_played\n",
       "0  1        Cam Talbot  2016-17  EDM        G            73\n",
       "1  2     Braden Holtby  2016-17  WSH        G            63\n",
       "2  3  Sergei Bobrovsky  2016-17  CBJ        G            63\n",
       "3  4      Devan Dubnyk  2016-17  MIN        G            65\n",
       "4  5       Tuukka Rask  2016-17  BOS        G            65"
      ]
     },
     "execution_count": 36,
     "metadata": {},
     "output_type": "execute_result"
    }
   ],
   "source": [
    "data.iloc[0:5,0:6]   "
   ]
  },
  {
   "cell_type": "markdown",
   "metadata": {},
   "source": [
    "(2) Проверьте, что процент отраженных бросков (save_percentage) сосчитан правильно\n",
    "(с точностью до третьего знака после запятой). Для этого сосчитайте его сами (с\n",
    "использованием показателей числа отраженных бросков (saves) и общего числа\n",
    "бросков (shots_against)) и найдите наибольшее абсолютное отклонение. "
   ]
  },
  {
   "cell_type": "code",
   "execution_count": 37,
   "metadata": {},
   "outputs": [
    {
     "data": {
      "text/plain": [
       "0.00059325605900950595"
      ]
     },
     "execution_count": 37,
     "metadata": {},
     "output_type": "execute_result"
    }
   ],
   "source": [
    "np.max(np.abs(data.save_percentage - data.saves / data.shots_against))"
   ]
  },
  {
   "cell_type": "markdown",
   "metadata": {},
   "source": [
    "(3) Вычислите средние и стандартные отклонения для следующих показателей: число\n",
    "проведенных игр (games_played), число пропущенных шайб (goals_against), про-\n",
    "цент отраженных бросков (save_percentage). "
   ]
  },
  {
   "cell_type": "markdown",
   "metadata": {},
   "source": [
    "Среднее:"
   ]
  },
  {
   "cell_type": "code",
   "execution_count": 38,
   "metadata": {},
   "outputs": [
    {
     "data": {
      "text/plain": [
       "games_played       28.476703\n",
       "goals_against      67.605735\n",
       "save_percentage     0.901179\n",
       "dtype: float64"
      ]
     },
     "execution_count": 38,
     "metadata": {},
     "output_type": "execute_result"
    }
   ],
   "source": [
    "data[['games_played', 'goals_against', 'save_percentage'] ].apply(np.mean)"
   ]
  },
  {
   "cell_type": "markdown",
   "metadata": {},
   "source": [
    "Стандартное отклонение"
   ]
  },
  {
   "cell_type": "code",
   "execution_count": 39,
   "metadata": {},
   "outputs": [
    {
     "data": {
      "text/plain": [
       "games_played       22.245421\n",
       "goals_against      53.256081\n",
       "save_percentage     0.071132\n",
       "dtype: float64"
      ]
     },
     "execution_count": 39,
     "metadata": {},
     "output_type": "execute_result"
    }
   ],
   "source": [
    "data[['games_played', 'goals_against', 'save_percentage'] ].apply(np.std)"
   ]
  },
  {
   "cell_type": "markdown",
   "metadata": {},
   "source": [
    "Для сезона 2016-17 найдите вратаря (player) с наибольшим процентом отраженных\n",
    "бросков (save_percentage) среди тех, кто провел более 40 матчей (games_played)"
   ]
  },
  {
   "cell_type": "code",
   "execution_count": 40,
   "metadata": {
    "collapsed": true
   },
   "outputs": [],
   "source": [
    "s = data[  (data.season ==  '2016-17' ) &\n",
    "     (data.games_played >40)   ]"
   ]
  },
  {
   "cell_type": "code",
   "execution_count": 41,
   "metadata": {},
   "outputs": [
    {
     "data": {
      "text/html": [
       "<div>\n",
       "<style scoped>\n",
       "    .dataframe tbody tr th:only-of-type {\n",
       "        vertical-align: middle;\n",
       "    }\n",
       "\n",
       "    .dataframe tbody tr th {\n",
       "        vertical-align: top;\n",
       "    }\n",
       "\n",
       "    .dataframe thead th {\n",
       "        text-align: right;\n",
       "    }\n",
       "</style>\n",
       "<table border=\"1\" class=\"dataframe\">\n",
       "  <thead>\n",
       "    <tr style=\"text-align: right;\">\n",
       "      <th></th>\n",
       "      <th>player</th>\n",
       "      <th>save_percentage</th>\n",
       "    </tr>\n",
       "  </thead>\n",
       "  <tbody>\n",
       "    <tr>\n",
       "      <th>2</th>\n",
       "      <td>Sergei Bobrovsky</td>\n",
       "      <td>0.931</td>\n",
       "    </tr>\n",
       "  </tbody>\n",
       "</table>\n",
       "</div>"
      ],
      "text/plain": [
       "             player  save_percentage\n",
       "2  Sergei Bobrovsky            0.931"
      ]
     },
     "execution_count": 41,
     "metadata": {},
     "output_type": "execute_result"
    }
   ],
   "source": [
    "s[s.save_percentage == max(s.save_percentage)][['player','save_percentage'] ]"
   ]
  },
  {
   "cell_type": "markdown",
   "metadata": {
    "collapsed": true
   },
   "source": [
    "Для каждого сезона найдите вратаря, который отразил наибольшее число бросков\n",
    "(saves)."
   ]
  },
  {
   "cell_type": "code",
   "execution_count": 42,
   "metadata": {},
   "outputs": [
    {
     "data": {
      "text/html": [
       "<div>\n",
       "<style scoped>\n",
       "    .dataframe tbody tr th:only-of-type {\n",
       "        vertical-align: middle;\n",
       "    }\n",
       "\n",
       "    .dataframe tbody tr th {\n",
       "        vertical-align: top;\n",
       "    }\n",
       "\n",
       "    .dataframe thead th {\n",
       "        text-align: right;\n",
       "    }\n",
       "</style>\n",
       "<table border=\"1\" class=\"dataframe\">\n",
       "  <thead>\n",
       "    <tr style=\"text-align: right;\">\n",
       "      <th></th>\n",
       "      <th>season</th>\n",
       "      <th>player</th>\n",
       "      <th>saves</th>\n",
       "    </tr>\n",
       "  </thead>\n",
       "  <tbody>\n",
       "    <tr>\n",
       "      <th>0</th>\n",
       "      <td>2014-15</td>\n",
       "      <td>Braden Holtby</td>\n",
       "      <td>1887</td>\n",
       "    </tr>\n",
       "    <tr>\n",
       "      <th>1</th>\n",
       "      <td>2015-16</td>\n",
       "      <td>Henrik Lundqvist</td>\n",
       "      <td>1788</td>\n",
       "    </tr>\n",
       "    <tr>\n",
       "      <th>2</th>\n",
       "      <td>2016-17</td>\n",
       "      <td>Cam Talbot</td>\n",
       "      <td>1946</td>\n",
       "    </tr>\n",
       "  </tbody>\n",
       "</table>\n",
       "</div>"
      ],
      "text/plain": [
       "    season            player  saves\n",
       "0  2014-15     Braden Holtby   1887\n",
       "1  2015-16  Henrik Lundqvist   1788\n",
       "2  2016-17        Cam Talbot   1946"
      ]
     },
     "execution_count": 42,
     "metadata": {},
     "output_type": "execute_result"
    }
   ],
   "source": [
    "data.sort_values('saves', ascending=False).groupby('season', as_index=False).first()[  ['season', 'player', 'saves']   ]"
   ]
  },
  {
   "cell_type": "markdown",
   "metadata": {},
   "source": [
    "#сделал немного нетривиально: сортируем по убыванию saves наш массив, сгруппипуем по сезонам и в каждом сезоне возьмем первое значение"
   ]
  },
  {
   "cell_type": "markdown",
   "metadata": {},
   "source": [
    "(6) Найдите всех вратарей, которые в каждом из трех сезонов выигрывали не менее 30\n",
    "матчей (wins). "
   ]
  },
  {
   "cell_type": "code",
   "execution_count": 43,
   "metadata": {
    "collapsed": true
   },
   "outputs": [],
   "source": [
    "x = pd.DataFrame (data.groupby('player').min().wins )"
   ]
  },
  {
   "cell_type": "code",
   "execution_count": 44,
   "metadata": {
    "collapsed": true
   },
   "outputs": [],
   "source": [
    "x ['seasons'] =  data.groupby('player').count().season"
   ]
  },
  {
   "cell_type": "code",
   "execution_count": 49,
   "metadata": {},
   "outputs": [
    {
     "data": {
      "text/html": [
       "<div>\n",
       "<style scoped>\n",
       "    .dataframe tbody tr th:only-of-type {\n",
       "        vertical-align: middle;\n",
       "    }\n",
       "\n",
       "    .dataframe tbody tr th {\n",
       "        vertical-align: top;\n",
       "    }\n",
       "\n",
       "    .dataframe thead th {\n",
       "        text-align: right;\n",
       "    }\n",
       "</style>\n",
       "<table border=\"1\" class=\"dataframe\">\n",
       "  <thead>\n",
       "    <tr style=\"text-align: right;\">\n",
       "      <th></th>\n",
       "      <th>wins</th>\n",
       "      <th>seasons</th>\n",
       "    </tr>\n",
       "    <tr>\n",
       "      <th>player</th>\n",
       "      <th></th>\n",
       "      <th></th>\n",
       "    </tr>\n",
       "  </thead>\n",
       "  <tbody>\n",
       "    <tr>\n",
       "      <th>Braden Holtby</th>\n",
       "      <td>41</td>\n",
       "      <td>3</td>\n",
       "    </tr>\n",
       "    <tr>\n",
       "      <th>Corey Crawford</th>\n",
       "      <td>32</td>\n",
       "      <td>3</td>\n",
       "    </tr>\n",
       "    <tr>\n",
       "      <th>Devan Dubnyk</th>\n",
       "      <td>32</td>\n",
       "      <td>3</td>\n",
       "    </tr>\n",
       "    <tr>\n",
       "      <th>Henrik Lundqvist</th>\n",
       "      <td>30</td>\n",
       "      <td>3</td>\n",
       "    </tr>\n",
       "    <tr>\n",
       "      <th>Pekka Rinne</th>\n",
       "      <td>31</td>\n",
       "      <td>3</td>\n",
       "    </tr>\n",
       "    <tr>\n",
       "      <th>Tuukka Rask</th>\n",
       "      <td>31</td>\n",
       "      <td>3</td>\n",
       "    </tr>\n",
       "  </tbody>\n",
       "</table>\n",
       "</div>"
      ],
      "text/plain": [
       "                  wins  seasons\n",
       "player                         \n",
       "Braden Holtby       41        3\n",
       "Corey Crawford      32        3\n",
       "Devan Dubnyk        32        3\n",
       "Henrik Lundqvist    30        3\n",
       "Pekka Rinne         31        3\n",
       "Tuukka Rask         31        3"
      ]
     },
     "execution_count": 49,
     "metadata": {},
     "output_type": "execute_result"
    }
   ],
   "source": [
    "x[ (x.wins >=30) & (x.seasons == 3) ]"
   ]
  },
  {
   "cell_type": "code",
   "execution_count": null,
   "metadata": {
    "collapsed": true
   },
   "outputs": [],
   "source": []
  }
 ],
 "metadata": {
  "kernelspec": {
   "display_name": "Python 3",
   "language": "python",
   "name": "python3"
  },
  "language_info": {
   "codemirror_mode": {
    "name": "ipython",
    "version": 3
   },
   "file_extension": ".py",
   "mimetype": "text/x-python",
   "name": "python",
   "nbconvert_exporter": "python",
   "pygments_lexer": "ipython3",
   "version": "3.5.2"
  }
 },
 "nbformat": 4,
 "nbformat_minor": 2
}
